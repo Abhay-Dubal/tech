{
 "cells": [
  {
   "cell_type": "code",
   "execution_count": 1,
   "metadata": {},
   "outputs": [],
   "source": [
    "import docx"
   ]
  },
  {
   "cell_type": "code",
   "execution_count": 3,
   "metadata": {},
   "outputs": [],
   "source": [
    "#  creat6ing a new docx file\n",
    "\n",
    "doc = docx.Document()\n",
    "\n",
    "doc.add_heading('Heading 1', 0)\n",
    "doc.add_paragraph('This is a paragraph.')\n",
    "doc.add_paragraph('This is a another paragraph.')\n",
    "doc.add_paragraph('This is a last paragraph.')\n",
    "doc.add_page_break()   # add a page break/ below this will be on new page\n",
    "doc.add_heading('Heading 2', 0)\n",
    "\n",
    "doc.add_paragraph('This is a  paragraph 2  .')\n",
    "\n",
    "doc.save('demo.docx')"
   ]
  },
  {
   "cell_type": "code",
   "execution_count": 7,
   "metadata": {},
   "outputs": [
    {
     "name": "stdout",
     "output_type": "stream",
     "text": [
      "Heading 1\n",
      "This is a paragraph.\n",
      "This is a another paragraph.\n",
      "This is a last paragraph.\n",
      "\n",
      "\n",
      "Heading 2\n",
      "This is a  paragraph 2  .\n"
     ]
    }
   ],
   "source": [
    "#  reading and updateing existing doc file\n",
    "\n",
    "my_doc = docx.Document('demo.docx')\n",
    "\n",
    "\n",
    "for txt in my_doc.paragraphs:      # my_doc.paragraphs returns a iterable list of paragraphs\n",
    "    print(txt.text)"
   ]
  },
  {
   "cell_type": "code",
   "execution_count": 6,
   "metadata": {},
   "outputs": [
    {
     "data": {
      "text/plain": [
       "[<docx.text.paragraph.Paragraph at 0x2b96c07bd90>,\n",
       " <docx.text.paragraph.Paragraph at 0x2b96c07beb0>,\n",
       " <docx.text.paragraph.Paragraph at 0x2b96c07b9a0>,\n",
       " <docx.text.paragraph.Paragraph at 0x2b96c07bd30>,\n",
       " <docx.text.paragraph.Paragraph at 0x2b96c07bf10>,\n",
       " <docx.text.paragraph.Paragraph at 0x2b96c07bee0>,\n",
       " <docx.text.paragraph.Paragraph at 0x2b96c07bd60>]"
      ]
     },
     "execution_count": 6,
     "metadata": {},
     "output_type": "execute_result"
    }
   ],
   "source": []
  },
  {
   "cell_type": "code",
   "execution_count": null,
   "metadata": {},
   "outputs": [],
   "source": []
  },
  {
   "cell_type": "code",
   "execution_count": null,
   "metadata": {},
   "outputs": [],
   "source": []
  }
 ],
 "metadata": {
  "interpreter": {
   "hash": "bbcae02c4273700af05fd878483d93fcaab7791578566c35fbbd6258eb8c5fe6"
  },
  "kernelspec": {
   "display_name": "Python 3.8.7 64-bit",
   "language": "python",
   "name": "python3"
  },
  "language_info": {
   "codemirror_mode": {
    "name": "ipython",
    "version": 3
   },
   "file_extension": ".py",
   "mimetype": "text/x-python",
   "name": "python",
   "nbconvert_exporter": "python",
   "pygments_lexer": "ipython3",
   "version": "3.8.7"
  },
  "orig_nbformat": 4
 },
 "nbformat": 4,
 "nbformat_minor": 2
}
