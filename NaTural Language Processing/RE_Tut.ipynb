{
 "cells": [
  {
   "cell_type": "markdown",
   "id": "acknowledged-biodiversity",
   "metadata": {},
   "source": [
    "# re    Regular Expression"
   ]
  },
  {
   "cell_type": "code",
   "execution_count": 1,
   "id": "racial-dragon",
   "metadata": {},
   "outputs": [],
   "source": [
    "import re"
   ]
  },
  {
   "cell_type": "markdown",
   "id": "animated-constant",
   "metadata": {},
   "source": [
    "# Patterns\n",
    "#### the \"r\" in the beginning is making sure that the string is being treated as a \"raw string\""
   ]
  },
  {
   "cell_type": "code",
   "execution_count": 267,
   "id": "adopted-delta",
   "metadata": {},
   "outputs": [],
   "source": [
    "text = \"The rain in Spain\""
   ]
  },
  {
   "cell_type": "markdown",
   "id": "surprised-piece",
   "metadata": {},
   "source": [
    "# [ ]\n",
    "## A set of characters\t   "
   ]
  },
  {
   "cell_type": "code",
   "execution_count": 156,
   "id": "compressed-tissue",
   "metadata": {},
   "outputs": [
    {
     "name": "stdout",
     "output_type": "stream",
     "text": [
      "['r', 'a', 'p', 'a']\n"
     ]
    }
   ],
   "source": [
    "pattern = \"[a-z]\"     # get list of lowercase charcters\n",
    "pattern = \"[a-zA-Z]\"     # get list of lowercase and uppercase charcters\n",
    "pattern = \"[adFG]\"     # Contains a , d  , F OR G \n",
    "pattern = \"[a-cp-z]\"     # get list of charcters from a to c OR p to z\n",
    "\n",
    "x = re.findall(pattern, text)\n",
    "\n",
    "print(x)"
   ]
  },
  {
   "cell_type": "markdown",
   "id": "limited-worst",
   "metadata": {},
   "source": [
    "# { } \n",
    "### set  length of searching string"
   ]
  },
  {
   "cell_type": "code",
   "execution_count": 270,
   "id": "congressional-conspiracy",
   "metadata": {},
   "outputs": [
    {
     "name": "stdout",
     "output_type": "stream",
     "text": [
      "['', 'he', '', 'rai', 'n', '', 'in', '', '', 'pai', 'n', '']\n"
     ]
    }
   ],
   "source": [
    "pattern = \"[a-z]{3}\"     # get list of charcters of a-z of len 3\n",
    "pattern = \"[a-z]{0,3}\"     # get list of charcters of a-z of len 0 to 3\n",
    "\n",
    "x = re.findall(pattern, text)\n",
    "\n",
    "print(x)"
   ]
  },
  {
   "cell_type": "markdown",
   "id": "polar-funds",
   "metadata": {},
   "source": [
    "#  \\\t\n",
    "## Signals a special sequence (can also be used to escape special characters)"
   ]
  },
  {
   "cell_type": "markdown",
   "id": "satellite-updating",
   "metadata": {},
   "source": [
    "## \\A  ==> Returns a match if the specified characters are at the beginning of the string "
   ]
  },
  {
   "cell_type": "code",
   "execution_count": 138,
   "id": "oriented-campus",
   "metadata": {},
   "outputs": [
    {
     "name": "stdout",
     "output_type": "stream",
     "text": [
      "[]\n"
     ]
    }
   ],
   "source": [
    "pattern = r\"\\AThe\"     # starts with The\n",
    "pattern = r\"\\Arain\"     # starts with rain , returns blank as rain is in middle not at start\n",
    "\n",
    "x = re.findall(pattern, text)\n",
    "\n",
    "print(x)"
   ]
  },
  {
   "cell_type": "markdown",
   "id": "cooked-cooperative",
   "metadata": {},
   "source": [
    "# \\b          \t\n",
    "### Returns a match where the specified characters are at the beginning or at the end of a word   \n",
    "\n",
    "### \\B is inverse of \\b \n"
   ]
  },
  {
   "cell_type": "code",
   "execution_count": 141,
   "id": "parallel-times",
   "metadata": {},
   "outputs": [
    {
     "name": "stdout",
     "output_type": "stream",
     "text": [
      "['ain', 'ain']\n"
     ]
    }
   ],
   "source": [
    "pattern = r\"\\bT\"     # Check if \"T\" is present at the beginning of any WORD  , for not start with \"T\" =>  r\"\\BT\"\n",
    "pattern = r\"ain\\b\"     # Check if \"ain\" is present at the last of any WORD , for not end with \"ain\"  =>  r\"ain\\B\"\n",
    "\n",
    "x = re.findall(pattern, text)\n",
    "\n",
    "print(x)"
   ]
  },
  {
   "cell_type": "markdown",
   "id": "weird-click",
   "metadata": {},
   "source": [
    "# \\d\n",
    "\n",
    "### if string contain digit \n",
    "\n",
    "### \\D   => if other than digit"
   ]
  },
  {
   "cell_type": "code",
   "execution_count": 143,
   "id": "prepared-anniversary",
   "metadata": {},
   "outputs": [
    {
     "name": "stdout",
     "output_type": "stream",
     "text": [
      "['T', 'h', 'e', ' ', 'r', 'a', 'i', 'n', ' ', 'i', 'n', ' ', 'S', 'p', 'a', 'i', 'n']\n"
     ]
    }
   ],
   "source": [
    "pattern = r\"\\d\"     # get a digit letter of length 1  => [0-9]\n",
    "pattern = r\"\\D\"     # get a non-digit letter of length 1  => [a-zA-Z]\n",
    "\n",
    "x = re.findall(pattern, text)\n",
    "\n",
    "print(x)"
   ]
  },
  {
   "cell_type": "markdown",
   "id": "magnetic-cooler",
   "metadata": {},
   "source": [
    "# \\s\n",
    "### selecting white space character\n",
    "### \\S   => non white space character"
   ]
  },
  {
   "cell_type": "code",
   "execution_count": 145,
   "id": "corporate-pakistan",
   "metadata": {},
   "outputs": [
    {
     "name": "stdout",
     "output_type": "stream",
     "text": [
      "['T', 'h', 'e', 'r', 'a', 'i', 'n', 'i', 'n', 'S', 'p', 'a', 'i', 'n']\n"
     ]
    }
   ],
   "source": [
    "pattern = r\"\\S\"     # get a non-digit letter of length 1  => [a-zA-Z]\n",
    "\n",
    "x = re.findall(pattern, text)\n",
    "\n",
    "print(x)"
   ]
  },
  {
   "cell_type": "markdown",
   "id": "extra-resource",
   "metadata": {},
   "source": [
    "# \\w\n",
    "### selects word character [a-zA-Z0-9] but not \" \"\n",
    "### \\W   vice-versa"
   ]
  },
  {
   "cell_type": "code",
   "execution_count": 149,
   "id": "conditional-january",
   "metadata": {},
   "outputs": [
    {
     "name": "stdout",
     "output_type": "stream",
     "text": [
      "['T', 'h', 'e', 'r', 'a', 'i', 'n', 'i', 'n', 'S', 'p', 'a', 'i', 'n', '4', '6', '5', '4']\n"
     ]
    }
   ],
   "source": [
    "pattern = r\"\\w\"     \n",
    "x = re.findall(pattern, text+ \"46 54\")\n",
    "\n",
    "print(x)"
   ]
  },
  {
   "cell_type": "markdown",
   "id": "daily-cornwall",
   "metadata": {},
   "source": [
    "## \\Z\t            \n",
    "###  Returns a match if the specified characters are at the end of the string\t                        "
   ]
  },
  {
   "cell_type": "code",
   "execution_count": 153,
   "id": "fundamental-edward",
   "metadata": {},
   "outputs": [
    {
     "name": "stdout",
     "output_type": "stream",
     "text": [
      "['Spain']\n"
     ]
    }
   ],
   "source": [
    "pattern = \"(Spain)\\Z\"     # reverse of \\A\n",
    "\n",
    "x = re.findall(pattern, text)\n",
    "\n",
    "print(x)"
   ]
  },
  {
   "cell_type": "markdown",
   "id": "everyday-cookbook",
   "metadata": {},
   "source": [
    "# .\n",
    "### Any character (except newline character \\n )"
   ]
  },
  {
   "cell_type": "code",
   "execution_count": 167,
   "id": "alike-choice",
   "metadata": {},
   "outputs": [
    {
     "name": "stdout",
     "output_type": "stream",
     "text": [
      "['rain']\n"
     ]
    }
   ],
   "source": [
    "pattern = \"r.in\"     # . can be any char except \\n  \n",
    "\n",
    "x = re.findall(pattern, text + \"\\n heyy \")   # skips \\n part \n",
    "\n",
    "print(x)"
   ]
  },
  {
   "cell_type": "code",
   "execution_count": 169,
   "id": "hidden-tampa",
   "metadata": {},
   "outputs": [
    {
     "name": "stdout",
     "output_type": "stream",
     "text": [
      "['.']\n"
     ]
    }
   ],
   "source": [
    "pattern = \"\\.\"     # \\. is teated as to match \".\" chracter \n",
    "\n",
    "x = re.findall(pattern, text + \"\\n heyy . \")   # skips \\n part \n",
    "\n",
    "print(x)"
   ]
  },
  {
   "cell_type": "markdown",
   "id": "graduate-wallet",
   "metadata": {},
   "source": [
    "# ()\n",
    "### Capture and group"
   ]
  },
  {
   "cell_type": "code",
   "execution_count": 173,
   "id": "lasting-accommodation",
   "metadata": {},
   "outputs": [
    {
     "name": "stdout",
     "output_type": "stream",
     "text": [
      "[(' ', 'r'), (' ', 'i')]\n"
     ]
    }
   ],
   "source": [
    "pattern = \"(\\s)([a-z])\"     # group character after blank space\n",
    "\n",
    "x = re.findall(pattern, text)   \n",
    "\n",
    "print(x)"
   ]
  },
  {
   "cell_type": "markdown",
   "id": "altered-fighter",
   "metadata": {},
   "source": [
    "# ^\n",
    "### Start with \n",
    "### if used in ( )  , it indicates not in "
   ]
  },
  {
   "cell_type": "code",
   "execution_count": 194,
   "id": "contained-buddy",
   "metadata": {},
   "outputs": [
    {
     "name": "stdout",
     "output_type": "stream",
     "text": [
      "['The']\n"
     ]
    }
   ],
   "source": [
    "pattern = \"^The\"     # string start with The same as \\AThe\n",
    "x = re.findall(pattern,  text )   \n",
    "print(x)"
   ]
  },
  {
   "cell_type": "code",
   "execution_count": 181,
   "id": "acoustic-albuquerque",
   "metadata": {},
   "outputs": [
    {
     "name": "stdout",
     "output_type": "stream",
     "text": [
      "['h', 'e', ' ', 'r', 'a', 'i', 'n', ' ', 'i', 'n', ' ', 'p', 'a', 'i', 'n']\n"
     ]
    }
   ],
   "source": [
    "pattern = \"[^A-Z]\"     # get char except A-Z\n",
    "\n",
    "x = re.findall(pattern, text )   \n",
    "print(x)"
   ]
  },
  {
   "cell_type": "markdown",
   "id": "distinguished-longer",
   "metadata": {},
   "source": [
    "# $\n",
    "\n",
    "### Ends with sequence \n"
   ]
  },
  {
   "cell_type": "code",
   "execution_count": 188,
   "id": "scientific-spell",
   "metadata": {},
   "outputs": [
    {
     "name": "stdout",
     "output_type": "stream",
     "text": [
      "[]\n"
     ]
    }
   ],
   "source": [
    "pattern = \"ain$\"     # string ends with \"ain\"\n",
    "\n",
    "x = re.findall(pattern, text )   \n",
    "print(x)"
   ]
  },
  {
   "cell_type": "markdown",
   "id": "cheap-honolulu",
   "metadata": {},
   "source": [
    "# *, + , ?\n",
    "### *   => Zero or more occurrences\n",
    "### +   => One or more occurrences  \n",
    "### ?\t=> Zero or one occurrences\t   "
   ]
  },
  {
   "cell_type": "code",
   "execution_count": 196,
   "id": "restricted-partner",
   "metadata": {},
   "outputs": [
    {
     "name": "stdout",
     "output_type": "stream",
     "text": [
      "['The', '', 'rain', '', 'in', '', 'Spain', '']\n"
     ]
    }
   ],
   "source": [
    "pattern = r\"(\\w*)\"\n",
    "\n",
    "x = re.findall(pattern, text )   \n",
    "print(x)"
   ]
  },
  {
   "cell_type": "code",
   "execution_count": 197,
   "id": "collect-rendering",
   "metadata": {},
   "outputs": [
    {
     "name": "stdout",
     "output_type": "stream",
     "text": [
      "['The', 'rain', 'in', 'Spain']\n"
     ]
    }
   ],
   "source": [
    "pattern = r\"(\\w+)\"\n",
    "\n",
    "x = re.findall(pattern, text )   \n",
    "print(x)"
   ]
  },
  {
   "cell_type": "code",
   "execution_count": 201,
   "id": "modern-father",
   "metadata": {},
   "outputs": [
    {
     "name": "stdout",
     "output_type": "stream",
     "text": [
      "['', 'h', 'e', '', 'r', 'a', 'i', 'n', '', 'i', 'n', '', '', 'p', 'a', 'i', 'n', '']\n"
     ]
    }
   ],
   "source": [
    "pattern = r\"([a-z]?)\"   # get [a-z] present one time or zero time i.e. \" \" \n",
    "\n",
    "x = re.findall(pattern, text )   \n",
    "print(x)"
   ]
  },
  {
   "cell_type": "markdown",
   "id": "electronic-eligibility",
   "metadata": {},
   "source": [
    "# |\n",
    "\n",
    "### Either or"
   ]
  },
  {
   "cell_type": "code",
   "execution_count": 209,
   "id": "demonstrated-austin",
   "metadata": {},
   "outputs": [
    {
     "name": "stdout",
     "output_type": "stream",
     "text": [
      "['5']\n"
     ]
    }
   ],
   "source": [
    "pattern = r\"^([A-Z]|\\d)\"   # start with [A-Z] or any digit \n",
    "\n",
    "x = re.findall(pattern, text )   \n",
    "x = re.findall(pattern, \"5\"+text )   \n",
    "print(x)"
   ]
  },
  {
   "cell_type": "markdown",
   "id": "adjacent-loading",
   "metadata": {},
   "source": [
    "# FindAll\n",
    "### findall() function returns a list containing all matches."
   ]
  },
  {
   "cell_type": "code",
   "execution_count": 118,
   "id": "impossible-manual",
   "metadata": {},
   "outputs": [
    {
     "name": "stdout",
     "output_type": "stream",
     "text": [
      "['The', 'rain', 'in', 'Spain']\n"
     ]
    }
   ],
   "source": [
    "txt = \"The rain in Spain\"\n",
    "x = re.findall(\"[\\S]+\", txt)\n",
    "print(x)"
   ]
  },
  {
   "cell_type": "markdown",
   "id": "adjusted-speaker",
   "metadata": {},
   "source": [
    "# Split\n",
    "\n",
    "### split() function returns a list where the string has been split at each match:\n",
    " ### split based on simple blank space i.e => \" \"\n",
    "    "
   ]
  },
  {
   "cell_type": "code",
   "execution_count": 89,
   "id": "genuine-fashion",
   "metadata": {},
   "outputs": [
    {
     "name": "stdout",
     "output_type": "stream",
     "text": [
      "['i', 'am', 'good']\n"
     ]
    }
   ],
   "source": [
    "text = \"i am good\"\n",
    "\n",
    "sp = re.split(\"\\s\", text)     # split based on space = > \" \"\n",
    "\n",
    "print(sp)   "
   ]
  },
  {
   "cell_type": "code",
   "execution_count": 91,
   "id": "incorrect-killing",
   "metadata": {},
   "outputs": [
    {
     "name": "stdout",
     "output_type": "stream",
     "text": [
      "['', 'good bad', 'neat vl']\n"
     ]
    }
   ],
   "source": [
    "text = \"\"\"\n",
    "good bad\n",
    "neat vl\"\"\"\n",
    "\n",
    "sp = re.split(\"\\n\", text)     # split based on newline = > \"\\n\"\n",
    "\n",
    "print(sp)  "
   ]
  },
  {
   "cell_type": "markdown",
   "id": "alleged-clear",
   "metadata": {},
   "source": [
    "# Sub\n",
    "### sub() function replaces the matches with the text of your choice"
   ]
  },
  {
   "cell_type": "code",
   "execution_count": 93,
   "id": "fitted-kazakhstan",
   "metadata": {},
   "outputs": [
    {
     "name": "stdout",
     "output_type": "stream",
     "text": [
      "i_am_good\n"
     ]
    }
   ],
   "source": [
    "text = \"i am good\"\n",
    " \n",
    "sub  = re.sub(\"\\s\", \"_\", text)  #  blankspace \" \" replaced with \"_\"\n",
    "\n",
    "print(sub)"
   ]
  },
  {
   "cell_type": "markdown",
   "id": "russian-temperature",
   "metadata": {},
   "source": [
    "# Match\n",
    "### Match Object is an object containing information about the search and the result\n",
    "\n",
    "## If No match found then None is returned"
   ]
  },
  {
   "cell_type": "code",
   "execution_count": 113,
   "id": "afraid-algeria",
   "metadata": {},
   "outputs": [
    {
     "name": "stdout",
     "output_type": "stream",
     "text": [
      "<re.Match object; span=(0, 3), match='The'>\n",
      "None\n"
     ]
    }
   ],
   "source": [
    "pattern = r\"The\"\n",
    "\n",
    "text = \"The rain in Spain The\"\n",
    "x = re.match(pattern, text)    # it matches and returns only first occurenaces match with given pattern\n",
    "print(x)\n",
    "print(re.match(r\"\\d\", text) )   # None cause there is no digit intext"
   ]
  },
  {
   "cell_type": "markdown",
   "id": "illegal-person",
   "metadata": {},
   "source": [
    "# Search\n",
    "### search() function searches the string for a match, and returns a Match object if there is a match."
   ]
  },
  {
   "cell_type": "code",
   "execution_count": 106,
   "id": "banned-wireless",
   "metadata": {},
   "outputs": [
    {
     "name": "stdout",
     "output_type": "stream",
     "text": [
      "<re.Match object; span=(3, 4), match=' '>\n",
      "3   4\n"
     ]
    }
   ],
   "source": [
    "text = \"The rain in Spain\"\n",
    "x = re.search(\"\\s\", text)\n",
    "\n",
    "print(x)\n",
    "print(x.start() , \" \" , x.end())   # get start and end index for search"
   ]
  },
  {
   "cell_type": "code",
   "execution_count": 104,
   "id": "julian-accommodation",
   "metadata": {},
   "outputs": [
    {
     "name": "stdout",
     "output_type": "stream",
     "text": [
      "3\n",
      "The rain in Spain\n"
     ]
    }
   ],
   "source": [
    "text = \"The rain in Spain\"\n",
    "x = re.search(\"\\s\", text)\n",
    "\n",
    "\n"
   ]
  },
  {
   "cell_type": "markdown",
   "id": "copyrighted-housing",
   "metadata": {},
   "source": [
    "# Test Patterns"
   ]
  },
  {
   "cell_type": "code",
   "execution_count": 225,
   "id": "centered-selection",
   "metadata": {},
   "outputs": [],
   "source": [
    "text = ''' Note 1 - Overview\n",
    "Tesla, Inc. (“Tesla”, the “Company”, “we”, “us” or “our”) was incorporated in the State of Delaware on July 1, 2003. We design, develop, manufacture and sell high-performance fully electric vehicles and design, manufacture, install and sell solar energy generation and energy storage\n",
    "products. Our Chief Executive Officer, as the chief operating decision maker (“CODM”), organizes our company, manages resource allocations and measures performance among two operating and reportable segments: (i) automotive and (ii) energy generation and storage.\n",
    "Beginning in the first quarter of 2021, there has been a trend in many parts of the world of increasing availability and administration of vaccines\n",
    "against COVID-19, as well as an easing of restrictions on social, business, travel and government activities and functions. On the other hand, infection\n",
    "rates and regulations continue to fluctuate in various regions and there are ongoing global impacts resulting from the pandemic, including challenges\n",
    "and increases in costs for logistics and supply chains, such as increased port congestion, intermittent supplier delays and a shortfall of semiconductor\n",
    "supply. We have also previously been affected by temporary manufacturing closures, employment and compensation adjustments and impediments to\n",
    "administrative activities supporting our product deliveries and deployments.\n",
    "Note 2 - Summary of Significant Accounting Policies\n",
    "Unaudited Interim Financial Statements (78) rahul@df.com \n",
    "Unaudited Interim Financial Statements (78) rahul2002@df.com \n",
    "asfThe rain in Spain.\n",
    "The consolidated balance sheet as of September 30, 2021, the consolidated 789 statements of operations, the consolidated statements of\n",
    "comprehensive income, the consolidated statements of redeemable noncontrolling interests and equity for the three and nine months ended September\n",
    "30, 2021 and 2020 and the consolidated statements of cash flows for the nine months ended September 30, 2021 and 2020, as well as other information\n",
    "disclosed in the accompanying notes, are unaudited. The consolidated balance sheet as of December 31, 2020 was derived from the audited\n",
    "consolidated financial statements as of that date. The interim consolidated financial statements and the accompanying notes should be read in\n",
    "conjunction with the annual consolidated financial statements and the accompanying notes contained in our Annual Report on Form 10-K for the year\n",
    "ended December 31, 2020. a \n",
    "Tesla's gross cost of operating lease vehicles in FY2021 Q1 was $4.85 billion. \n",
    "In The previous quarter i.e. FY2020 Q4 it was $3 billion\n",
    "aaaaaabbb\n",
    "'''"
   ]
  },
  {
   "cell_type": "code",
   "execution_count": 226,
   "id": "different-index",
   "metadata": {},
   "outputs": [
    {
     "name": "stdout",
     "output_type": "stream",
     "text": [
      "['2003', '2021', '2002', '2021', '789', '2021', '2020', '2021', '2020', '2020', '2020', '2021', '2020']\n"
     ]
    }
   ],
   "source": [
    "#  Get year from text \n",
    "\n",
    "pattern = r\"([\\d]{4})\"  # as year has 4 digits\n",
    "pattern = r\"\\d{4}|\\d{3}\"  # seq contains  3 or 4 digits \n",
    "\n",
    "x = re.findall(pattern, text)\n",
    "\n",
    "print(x)"
   ]
  },
  {
   "cell_type": "code",
   "execution_count": 238,
   "id": "prescription-institution",
   "metadata": {},
   "outputs": [
    {
     "name": "stdout",
     "output_type": "stream",
     "text": [
      "[('rahul', 'df', 'com'), ('rahul2002', 'df', 'com')]\n",
      "['rahul@df.com', 'rahul2002@df.com']\n"
     ]
    }
   ],
   "source": [
    "# get email from text\n",
    "\n",
    "pattern = r\"(\\w+)@([a-z]+)\\.([a-z]+)\"  # email id , domain , identifier  \n",
    "\n",
    "x = re.findall(pattern, text)\n",
    "\n",
    "print(x)  \n",
    "\n",
    "print(re.findall(\"([a-z0-9]+@[a-z]+\\.[a-z]+)\", text))   "
   ]
  },
  {
   "cell_type": "code",
   "execution_count": 236,
   "id": "rising-helena",
   "metadata": {},
   "outputs": [
    {
     "name": "stdout",
     "output_type": "stream",
     "text": [
      "['Overview', 'Summary']\n"
     ]
    }
   ],
   "source": [
    "#  get Note\n",
    "\n",
    "pattern = r\"Note\\s\\d\\s\\-\\s([\\w]+)\"  # Note 1 - Overview\n",
    "\n",
    "x = re.findall(pattern, text)\n",
    "\n",
    "print(x)"
   ]
  },
  {
   "cell_type": "code",
   "execution_count": null,
   "id": "published-petroleum",
   "metadata": {},
   "outputs": [],
   "source": [
    "pattern = r\"\"\n",
    "\n",
    "x = re.findall(pattern, txt)\n",
    "\n",
    "print(x)"
   ]
  },
  {
   "cell_type": "code",
   "execution_count": 275,
   "id": "grave-relaxation",
   "metadata": {},
   "outputs": [
    {
     "name": "stdout",
     "output_type": "stream",
     "text": [
      "['CLC']\n",
      "VALID\n"
     ]
    }
   ],
   "source": [
    "\t\n",
    "\t\n",
    "\n",
    "# 1. The string must begin with between 0-3 (inclusive) lowercase letters.  =>  ^[a-z]{0,3}\n",
    "# 2. Immediately following the letters, there must be a sequence of digits (0-9). \n",
    "#             The length of this segment must be between 2 and 8, both inclusive.  => \\d{2,8}\n",
    "# 3. Immediately following the numbers, there must be atleast 3 uppercase letters.   ([A-Z]{3})+\n",
    "\n",
    "# abc012333ABCDEEEE  Valid\n",
    "# 0123AB      invalid\n",
    "# 6931752CRDFCDEMZCODMGXWRLXIWQCBCLC  valid\n",
    "\n",
    "import sys\n",
    "\n",
    "regex_pattern = r\"^[a-z]{0,3}\\d{2,8}([A-Z]{3})+\"\n",
    "\n",
    "test_string = \"6931752CRDFCDEMZCODMGXWRLXIWQCBCLC\"\n",
    "# test_string = \"abc012333ABCDEEEE\"\n",
    "\n",
    "match = re.match(regex_pattern, test_string) is not None\n",
    "print(re.findall(regex_pattern, test_string))\n",
    "\n",
    "if match:\n",
    "    print(\"VALID\")\n",
    "else:\n",
    "    print(\"INVALID\")\n",
    "\n"
   ]
  },
  {
   "cell_type": "code",
   "execution_count": 319,
   "id": "above-lease",
   "metadata": {},
   "outputs": [
    {
     "name": "stdout",
     "output_type": "stream",
     "text": [
      "[]\n"
     ]
    }
   ],
   "source": [
    "pattern = r\"^(\\d{1,2})([a-zA-Z]{3,100})([-+_!@#$%^&*\\., ?]){0,3}$\"\t# Do not delete 'r'.\n",
    "\n",
    "\n",
    "print(re.findall(pattern, \"3threeormorealphabets8\"))"
   ]
  },
  {
   "cell_type": "code",
   "execution_count": null,
   "id": "comprehensive-direction",
   "metadata": {},
   "outputs": [],
   "source": [
    "total_in = input()\n",
    "\n",
    "for i in range(int(total_in)):\n",
    "    test_string = input()\n",
    "    match = re.match(regex_pattern, test_string) is not None\n",
    "    if match:\n",
    "        print(\"VALID\")\n",
    "    else:\n",
    "        print(\"INVALID\")"
   ]
  },
  {
   "cell_type": "code",
   "execution_count": null,
   "id": "civil-monte",
   "metadata": {},
   "outputs": [],
   "source": []
  },
  {
   "cell_type": "code",
   "execution_count": null,
   "id": "recovered-sucking",
   "metadata": {},
   "outputs": [],
   "source": [
    "pattern = r\"\"\n",
    "\n",
    "x = re.findall(pattern, txt)\n",
    "\n",
    "print(x)"
   ]
  },
  {
   "cell_type": "code",
   "execution_count": 82,
   "id": "after-density",
   "metadata": {},
   "outputs": [],
   "source": [
    "que  = \"\"\"eXFY0623308DFAWQAAWXFYTBBTBKHLRDEQKNCRAAN\n",
    "gvS491FDMXSIUXLLYUUPDUSKAZHCVJIKO\n",
    "tSnj1288KVIXJZWQFBRIGMSMGVQRKPMX\n",
    "19HQWHUZNUWB\n",
    "qEQ235957\n",
    "Gc6645947RBUTXZ\n",
    "ss\n",
    "6931752CRDFCDEMZCODMGXWRLXIWQCBCLC\n",
    "e105109259RZQDUA\n",
    "BDo4155YELVQXQCIUCUKY\n",
    "ss\n",
    "806278MCFLXMSYEVE\n",
    "xAw31VLFDJOQR\n",
    "BYKR0592DJGDBWMDKAOEVVTVIZEHILHMFRZW\n",
    "FGx294208025JGEEYVEBTCWASCBSUYQAQBJ\n",
    "052JNBXYDCGMSQRUBQWGFRINREJQHD\n",
    "7166\n",
    "ss\n",
    "CTWSHFNTDLMHYGFMPJRKQFVRGM\n",
    "gO41362718TPVRHDFXXBIYJFEUZUVNVRF\n",
    "10307438LAEIKGB\n",
    "274\n",
    "62759WOVOVSR\n",
    "262VZCKDNTEBTZPWTNUVANYFPUSLHB\n",
    "B17058605CYGPEYQJNPPKHQRSAULGPVMRAWVP\n",
    "PBU4993LEK\n",
    "42161CAYFDUVOBBYCMXLYCBG\n",
    "eGTD\n",
    "96387942OCVOZUATNNJNJPVQSLYZLYURYD\n",
    "ZMYRAGG\n",
    "wj3531QNDJXDCTKKNNXI\n",
    "xeYoQBZIOGW\n",
    "GA02GYTWRDK\n",
    "12073\n",
    "z80089IZKIZMDEOPUTEDMFKVAVHTVXHVXKN\n",
    "fkI08926671URBNGCRYB\n",
    "98368KKTTDSPEYRBCUOXV\n",
    "ss\"\"\"\n",
    "\n",
    "from nltk.tokenize import word_tokenize\n",
    "\n",
    "wtq = word_tokenize(que)\n",
    "\n"
   ]
  },
  {
   "cell_type": "code",
   "execution_count": 83,
   "id": "severe-title",
   "metadata": {},
   "outputs": [],
   "source": [
    "sent = \"\"\"INVALID\n",
    "INVALID\n",
    "INVALID\n",
    "VALID\n",
    "INVALID\n",
    "INVALID\n",
    "INVALID\n",
    "VALID\n",
    "INVALID\n",
    "INVALID\n",
    "INVALID\n",
    "VALID\n",
    "INVALID\n",
    "INVALID\n",
    "INVALID\n",
    "VALID\n",
    "INVALID\n",
    "INVALID\n",
    "INVALID\n",
    "INVALID\n",
    "VALID\n",
    "INVALID\n",
    "VALID\n",
    "VALID\n",
    "INVALID\n",
    "INVALID\n",
    "VALID\n",
    "INVALID\n",
    "VALID\n",
    "INVALID\n",
    "VALID\n",
    "INVALID\n",
    "INVALID\n",
    "INVALID\n",
    "VALID\n",
    "INVALID\n",
    "VALID\n",
    "INVALID\"\"\"\n",
    "\n",
    "from nltk.tokenize import word_tokenize\n",
    "\n",
    "wt = word_tokenize(sent)\n",
    "\n",
    "\n"
   ]
  },
  {
   "cell_type": "code",
   "execution_count": 77,
   "id": "piano-parent",
   "metadata": {},
   "outputs": [
    {
     "name": "stdout",
     "output_type": "stream",
     "text": [
      "For  0\n",
      "For  1\n",
      "For  2\n",
      "For  3\n",
      "For  4\n",
      "For  5\n",
      "For  6\n",
      "For  7\n",
      "false for 6931752CRDFCDEMZCODMGXWRLXIWQCBCLC ==>  False  but original out is VALID\n",
      "For  8\n",
      "For  9\n",
      "For  10\n",
      "For  11\n",
      "For  12\n",
      "For  13\n",
      "For  14\n",
      "For  15\n",
      "false for 052JNBXYDCGMSQRUBQWGFRINREJQHD ==>  False  but original out is VALID\n",
      "For  16\n",
      "For  17\n",
      "For  18\n",
      "For  19\n",
      "For  20\n",
      "For  21\n",
      "For  22\n",
      "false for 62759WOVOVSR ==>  False  but original out is VALID\n",
      "For  23\n",
      "false for 262VZCKDNTEBTZPWTNUVANYFPUSLHB ==>  False  but original out is VALID\n",
      "For  24\n",
      "For  25\n",
      "For  26\n",
      "false for 42161CAYFDUVOBBYCMXLYCBG ==>  False  but original out is VALID\n",
      "For  27\n",
      "For  28\n",
      "For  29\n",
      "For  30\n",
      "false for wj3531QNDJXDCTKKNNXI ==>  False  but original out is VALID\n",
      "For  31\n",
      "For  32\n",
      "For  33\n",
      "For  34\n",
      "false for z80089IZKIZMDEOPUTEDMFKVAVHTVXHVXKN ==>  False  but original out is VALID\n",
      "For  35\n",
      "For  36\n",
      "false for 98368KKTTDSPEYRBCUOXV ==>  False  but original out is VALID\n",
      "For  37\n"
     ]
    }
   ],
   "source": [
    "for i in range(len(wt)):\n",
    "    print(\"For \",i)\n",
    "    test_string = wtq[i]\n",
    "    match = re.match(regex_pattern, test_string) is not None\n",
    "    if match:\n",
    "        if wt[i] != \"VALID\":\n",
    "            print(f\"false for {wtq[i]} ==>  {match}  but original out is {wt[i]}\")\n",
    "    else:\n",
    "        if wt[i] != \"INVALID\":\n",
    "            print(f\"false for {wtq[i]} ==>  {match}  but original out is {wt[i]}\")"
   ]
  },
  {
   "cell_type": "code",
   "execution_count": 86,
   "id": "married-emerald",
   "metadata": {},
   "outputs": [
    {
     "name": "stdout",
     "output_type": "stream",
     "text": [
      "<re.Match object; span=(0, 6), match='693175'>\n",
      "VALID\n"
     ]
    }
   ],
   "source": [
    "regex_pattern = r\"^(([a-z]{3})*)(([0-9]{2})+)\"\n",
    "test_string = \"6931752CRDFCDEMZCODMGXWRLXIWQCBCLC\"\n",
    "match = re.match(regex_pattern, test_string) is not None\n",
    "print(re.match(regex_pattern, test_string))\n",
    "if match:\n",
    "    print(\"VALID\")\n",
    "else:\n",
    "    print(\"INVALID\")"
   ]
  },
  {
   "cell_type": "code",
   "execution_count": 9,
   "id": "lucky-habitat",
   "metadata": {},
   "outputs": [
    {
     "name": "stdout",
     "output_type": "stream",
     "text": [
      "true\n"
     ]
    }
   ],
   "source": [
    "Regex_Pattern = r'^([\\d]{2})+([a-z]*)([A-Z]*)$'\n",
    "\n",
    "# Regex_Pattern = r\"([/d]{2})+\"\n",
    "\n",
    "print(str(bool(re.search(Regex_Pattern, \"14\"))).lower())\n",
    "\n"
   ]
  },
  {
   "cell_type": "code",
   "execution_count": 87,
   "id": "separate-address",
   "metadata": {},
   "outputs": [],
   "source": [
    "Regex_Pattern = r'\\D[^aeiou][^bcDF]\\S[^AEIOU][^\\.,]'\n",
    "\n",
    "S must be of length 6\n",
    "First character should not be a digit (1, 2, 3, 4, 5, 6, 7, 8, 9 or 0).\n",
    "Second character should not be a lowercase vowel (a, e, i, o or u).\n",
    "Third character should not be b, c, D or E.\n",
    "Fourth character should not be a whitespace character (\\r, \\n, \\t, \\f or the space character).\n",
    "Fifth character should not be an uppercase vowel (A, E, I, O or U).\n",
    "Sixth character should not be a . or , symbol."
   ]
  }
 ],
 "metadata": {
  "kernelspec": {
   "display_name": "Python 3",
   "language": "python",
   "name": "python3"
  },
  "language_info": {
   "codemirror_mode": {
    "name": "ipython",
    "version": 3
   },
   "file_extension": ".py",
   "mimetype": "text/x-python",
   "name": "python",
   "nbconvert_exporter": "python",
   "pygments_lexer": "ipython3",
   "version": "3.8.7"
  }
 },
 "nbformat": 4,
 "nbformat_minor": 5
}
