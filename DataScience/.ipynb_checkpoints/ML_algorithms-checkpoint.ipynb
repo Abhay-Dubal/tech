{
 "cells": [
  {
   "cell_type": "markdown",
   "metadata": {},
   "source": [
    "# All Machine Learing Algorithm \n",
    "\n",
    "### contents :\n",
    "\n",
    "####  * Basics , Problem Faced and Errors*\n",
    "#### 1. Supervised Learning\n",
    "##### 1.1 Regression => Linear Regression , SVM , Decision Tree , Random Forest , Ridge and Lasso , Bayesian Ridge\n",
    "##### 1.2 Classification => Logistic Regression , KNN , SVM , Decision Tree , Random Forest , naive Bayes , Decision Trees,Naïve Bayes\n",
    "##### 1.3 Ensemble Techniques => Bagging , AdaBoost , Gradient Boosting , XGBoost\n",
    "#### 2. Unsupervised Learning\n",
    "##### 2.1 Clustering  => K-Means , DBSCAN , Agglomerative Clustering , Spectral Clustering\n",
    "##### 2.2 Dimensionality Reduction => PCA , LDA , MDS , Isomap , t-SNE\n",
    "#### 3. Semi - Supervised  Learning\n",
    "#### 4. Reinforcement Learning  => Q-Learning , DQN , A2C , PPO , DDPG , TD3\n",
    "________________________________________________________________________________________________________________________________________________________\n"
   ]
  },
  {
   "cell_type": "markdown",
   "metadata": {},
   "source": [
    "## Basics"
   ]
  },
  {
   "cell_type": "markdown",
   "metadata": {},
   "source": [
    "##### Machine learning (ML) is the study of computer algorithms that can improve automatically through experience and by the use of data. It is seen as a part of artificial intelligence. Machine learning algorithms build a model based on sample data, known as training data, in order to make predictions or decisions without being explicitly programmed to do so. Machine learning algorithms are used in a wide variety of applications, such as in medicine, email filtering, speech recognition, and computer vision, where it is difficult or unfeasible to develop conventional algorithms to perform the needed tasks."
   ]
  },
  {
   "cell_type": "markdown",
   "metadata": {},
   "source": [
    "## Problems Faced"
   ]
  },
  {
   "cell_type": "markdown",
   "metadata": {},
   "source": [
    "#### Overfitting: \n",
    "##### The scenario when a machine learning model is unable to capture the important patterns and insights from the data, which results in the model performing poorly on training data itself.\n",
    "#### What To Do :\n",
    "##### 1. Reduce the number of features\n",
    "\n",
    "#### Underfitting: \n",
    "##### The scenario when a machine learning model almost exactly matches the training data but performs very poorly when it encounters new data or validation set\n",
    "#### What To Do :\n",
    "##### 1. Increase the number of features\n"
   ]
  },
  {
   "cell_type": "markdown",
   "metadata": {},
   "source": [
    "__________________________\n",
    "## 1. Supervised Learning\n",
    "__________________________"
   ]
  },
  {
   "cell_type": "markdown",
   "metadata": {},
   "source": [
    "##### Supervised learning is where you have input variables (x) and an output variable (Y) and you use an algorithm to learn the mapping function from the input to the output.\n",
    "#### Y = f(X)\n",
    "##### There are 2 types of supervised learning algorithms:\n",
    "##### 1.1 Regression\n",
    "##### 1.2 Classification\n"
   ]
  },
  {
   "cell_type": "markdown",
   "metadata": {},
   "source": [
    " \n",
    "### ____________________________ 1.1 Regression _____________________________"
   ]
  },
  {
   "cell_type": "markdown",
   "metadata": {},
   "source": [
    "##### Also known as estimation model\n",
    "#### regression is the process of predicting a continuous value\n"
   ]
  },
  {
   "cell_type": "markdown",
   "metadata": {},
   "source": [
    "### ****      Regression Algorithms         ****"
   ]
  },
  {
   "cell_type": "markdown",
   "metadata": {},
   "source": [
    "\n",
    "### <b> 1.1.1 Linear Regression  </b>\n"
   ]
  },
  {
   "cell_type": "markdown",
   "metadata": {},
   "source": [
    "##### Linear regression is a simple linear model that assumes that the relationship between the input variables and the output variable is linear.\n",
    "##### here we try to find the best fit line for the data , here y is linear function of x , we predict y based on values of x and parameters of the line\n",
    "##### here we use equation of the line to predict y i.e. y = mx + c   _OR_  y = (Mi)(Xi) + C   where i is the index of the input variable\n",
    "##### it is writen in standerd terms as <h1> h<sub>θ</sub>(x) = θ<sub>0</sub> + θ<sub>1</sub>x      </h1>\n",
    "#####  where m is the slope(unit movement in x axis then respective movement in y axis) of the line and c is the intercept (at what point does the line intersect the y-axis)\n",
    "##### here we try to minimize the distance between the data points and the line that is known best-fit line\n",
    "##### here we calculate the cost function\n",
    "### <h1>J(<b>θ</b><sub>1</sub>) = 1/2n *  Σ(h(x<sub>i</sub>) - y<sub>i</sub>)²   </h1> &nbsp;  <sub> theta_0 = C , theta_1 = M  </sub>\n",
    "#####  it is required to update values of slope and c in order to minimize the error  , summation is considerd from i=1 to i=n , also  h(xi) is predicted value of y for xi and yi is actual value of y for xi  --- we divided here by 1/2n because by 1/n we get avarage of error  and 1/2 for differentiate helper\n",
    "#####   according to the cost function we can plot the graph of cost function and find the minimum value of cost function , it is also called gradient descent algorithm , here we take random value once of slope and c and find update it and finds the minimum value of cost function  \n",
    "\n",
    "##### to update the slope and c we use the formula known as convergence algorithm(Repeat until convergence)\n",
    "### Repeat until convergence {\n",
    "#####   <b>θ</b><sub>j</sub> = <b>θ</b><sub>j</sub> - α * δ/δ<sub><b>θ</b><sub>j</sub></sub> J( <b>θ</b><sub>0</sub>, <b>θ</b><sub>1</sub>)  \n",
    "### }\n",
    "<img src=\"https://miro.medium.com/max/1400/1*o95nDGY2oV9r3jKLTRrIxw.png\" height=\"40%\" width=\"40%\">\n",
    "<img src=\"1.jpg\" height=\"70%\" width=\"70%\">\n",
    "\n",
    "#####    α is learning rate , δ is partial derivative of cost function with respect to theta 0 and theta 1\n",
    "##### here if get positive slope by calculating derivative then we subtract slope*alpha from theta 0 \n",
    "##### if we get negative slope by calculating derivative then we add slope*alpha to theta 0\n",
    "##### here we can face the problem of local minima  , but cost function will be recover from here but in DL we use adam or RMSProp optimizert to solve this problem \n",
    "##### local minima problem\n",
    "\n",
    "<img src=\"https://www.researchgate.net/profile/Wentian-Jin/publication/334867382/figure/fig3/AS:787290435641344@1564716075015/Depiction-of-the-local-minima-and-global-minimum-in-the-energy-minimization-problem.png\" height=\"40%\" width=\"30%\">\n",
    "\n",
    "##### here \n",
    "##### here \n"
   ]
  },
  {
   "cell_type": "code",
   "execution_count": 2,
   "metadata": {},
   "outputs": [
    {
     "name": "stderr",
     "output_type": "stream",
     "text": [
      "C:\\Users\\Rahul Agrawal\\AppData\\Local\\Programs\\Python\\Python38\\lib\\site-packages\\numpy\\_distributor_init.py:30: UserWarning: loaded more than 1 DLL from .libs:\n",
      "C:\\Users\\Rahul Agrawal\\AppData\\Local\\Programs\\Python\\Python38\\lib\\site-packages\\numpy\\.libs\\libopenblas.WCDJNK7YVMPZQ2ME2ZZHJJRJ3JIKNDB7.gfortran-win_amd64.dll\n",
      "C:\\Users\\Rahul Agrawal\\AppData\\Local\\Programs\\Python\\Python38\\lib\\site-packages\\numpy\\.libs\\libopenblas.XWYDX2IKJW2NMTWSFYNGFUWKQU3LYTCZ.gfortran-win_amd64.dll\n",
      "  warnings.warn(\"loaded more than 1 DLL from .libs:\"\n"
     ]
    }
   ],
   "source": [
    "from sklearn.linear_model import LinearRegression\n",
    "\n",
    "model = LinearRegression()"
   ]
  },
  {
   "cell_type": "code",
   "execution_count": null,
   "metadata": {},
   "outputs": [],
   "source": []
  },
  {
   "cell_type": "markdown",
   "metadata": {},
   "source": [
    "#### 1.1.2 SVM"
   ]
  },
  {
   "cell_type": "markdown",
   "metadata": {},
   "source": []
  },
  {
   "cell_type": "markdown",
   "metadata": {},
   "source": [
    "### _____________________________ 1.2 Classification _____________________________"
   ]
  },
  {
   "cell_type": "markdown",
   "metadata": {},
   "source": []
  },
  {
   "cell_type": "markdown",
   "metadata": {},
   "source": []
  },
  {
   "cell_type": "markdown",
   "metadata": {},
   "source": []
  },
  {
   "cell_type": "markdown",
   "metadata": {},
   "source": [
    "__________________________\n",
    "## 2. Unsupervised Learning\n",
    "__________________________"
   ]
  },
  {
   "cell_type": "markdown",
   "metadata": {},
   "source": [
    " \n",
    "### ____________________________ 2.1 Clustering _____________________________"
   ]
  },
  {
   "cell_type": "markdown",
   "metadata": {},
   "source": [
    "##### mainly used for customer segmentation and data mining"
   ]
  },
  {
   "cell_type": "markdown",
   "metadata": {},
   "source": []
  },
  {
   "cell_type": "markdown",
   "metadata": {},
   "source": [
    " \n",
    "### ____________________________ 2.2  Dimentionality Reduction _____________________________"
   ]
  },
  {
   "cell_type": "markdown",
   "metadata": {},
   "source": [
    "##### used to reduce the dimension of the data\n"
   ]
  },
  {
   "cell_type": "markdown",
   "metadata": {},
   "source": [
    "__________________________\n",
    "## 3. Semi-Supervised Learning\n",
    "__________________________"
   ]
  },
  {
   "cell_type": "markdown",
   "metadata": {},
   "source": [
    "__________________________\n",
    "## 4. Reinforcement Learning\n",
    "__________________________"
   ]
  }
 ],
 "metadata": {
  "interpreter": {
   "hash": "bbcae02c4273700af05fd878483d93fcaab7791578566c35fbbd6258eb8c5fe6"
  },
  "kernelspec": {
   "display_name": "Python 3",
   "language": "python",
   "name": "python3"
  },
  "language_info": {
   "codemirror_mode": {
    "name": "ipython",
    "version": 3
   },
   "file_extension": ".py",
   "mimetype": "text/x-python",
   "name": "python",
   "nbconvert_exporter": "python",
   "pygments_lexer": "ipython3",
   "version": "3.8.7"
  }
 },
 "nbformat": 4,
 "nbformat_minor": 2
}
