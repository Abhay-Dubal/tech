{
 "cells": [
  {
   "cell_type": "code",
   "execution_count": 1,
   "metadata": {},
   "outputs": [],
   "source": [
    "import yfinance as yf"
   ]
  },
  {
   "cell_type": "code",
   "execution_count": 2,
   "metadata": {},
   "outputs": [
    {
     "name": "stdout",
     "output_type": "stream",
     "text": [
      "[*********************100%***********************]  1 of 1 completed\n"
     ]
    }
   ],
   "source": [
    "data = yf.download(tickers=\"AMZN\", start= \"2020-01-01\" , end=\"2022-02-01\" , interval = '1d')  "
   ]
  },
  {
   "cell_type": "code",
   "execution_count": 6,
   "metadata": {},
   "outputs": [
    {
     "data": {
      "text/html": [
       "<div>\n",
       "<style scoped>\n",
       "    .dataframe tbody tr th:only-of-type {\n",
       "        vertical-align: middle;\n",
       "    }\n",
       "\n",
       "    .dataframe tbody tr th {\n",
       "        vertical-align: top;\n",
       "    }\n",
       "\n",
       "    .dataframe thead th {\n",
       "        text-align: right;\n",
       "    }\n",
       "</style>\n",
       "<table border=\"1\" class=\"dataframe\">\n",
       "  <thead>\n",
       "    <tr style=\"text-align: right;\">\n",
       "      <th></th>\n",
       "      <th>Open</th>\n",
       "      <th>High</th>\n",
       "      <th>Low</th>\n",
       "      <th>Close</th>\n",
       "      <th>Adj Close</th>\n",
       "      <th>Volume</th>\n",
       "    </tr>\n",
       "    <tr>\n",
       "      <th>Date</th>\n",
       "      <th></th>\n",
       "      <th></th>\n",
       "      <th></th>\n",
       "      <th></th>\n",
       "      <th></th>\n",
       "      <th></th>\n",
       "    </tr>\n",
       "  </thead>\n",
       "  <tbody>\n",
       "    <tr>\n",
       "      <th>2019-12-31</th>\n",
       "      <td>1842.000000</td>\n",
       "      <td>1853.260010</td>\n",
       "      <td>1832.229980</td>\n",
       "      <td>1847.839966</td>\n",
       "      <td>1847.839966</td>\n",
       "      <td>2506500</td>\n",
       "    </tr>\n",
       "    <tr>\n",
       "      <th>2020-01-02</th>\n",
       "      <td>1875.000000</td>\n",
       "      <td>1898.010010</td>\n",
       "      <td>1864.150024</td>\n",
       "      <td>1898.010010</td>\n",
       "      <td>1898.010010</td>\n",
       "      <td>4029000</td>\n",
       "    </tr>\n",
       "    <tr>\n",
       "      <th>2020-01-03</th>\n",
       "      <td>1864.500000</td>\n",
       "      <td>1886.199951</td>\n",
       "      <td>1864.500000</td>\n",
       "      <td>1874.969971</td>\n",
       "      <td>1874.969971</td>\n",
       "      <td>3764400</td>\n",
       "    </tr>\n",
       "    <tr>\n",
       "      <th>2020-01-06</th>\n",
       "      <td>1860.000000</td>\n",
       "      <td>1903.689941</td>\n",
       "      <td>1860.000000</td>\n",
       "      <td>1902.880005</td>\n",
       "      <td>1902.880005</td>\n",
       "      <td>4061800</td>\n",
       "    </tr>\n",
       "    <tr>\n",
       "      <th>2020-01-07</th>\n",
       "      <td>1904.500000</td>\n",
       "      <td>1913.890015</td>\n",
       "      <td>1892.040039</td>\n",
       "      <td>1906.859985</td>\n",
       "      <td>1906.859985</td>\n",
       "      <td>4044900</td>\n",
       "    </tr>\n",
       "    <tr>\n",
       "      <th>...</th>\n",
       "      <td>...</td>\n",
       "      <td>...</td>\n",
       "      <td>...</td>\n",
       "      <td>...</td>\n",
       "      <td>...</td>\n",
       "      <td>...</td>\n",
       "    </tr>\n",
       "    <tr>\n",
       "      <th>2022-01-25</th>\n",
       "      <td>2844.850098</td>\n",
       "      <td>2872.000000</td>\n",
       "      <td>2762.899902</td>\n",
       "      <td>2799.719971</td>\n",
       "      <td>2799.719971</td>\n",
       "      <td>4541200</td>\n",
       "    </tr>\n",
       "    <tr>\n",
       "      <th>2022-01-26</th>\n",
       "      <td>2895.000000</td>\n",
       "      <td>2903.699951</td>\n",
       "      <td>2746.370117</td>\n",
       "      <td>2777.449951</td>\n",
       "      <td>2777.449951</td>\n",
       "      <td>4780100</td>\n",
       "    </tr>\n",
       "    <tr>\n",
       "      <th>2022-01-27</th>\n",
       "      <td>2816.000000</td>\n",
       "      <td>2884.870117</td>\n",
       "      <td>2787.000000</td>\n",
       "      <td>2792.750000</td>\n",
       "      <td>2792.750000</td>\n",
       "      <td>3875800</td>\n",
       "    </tr>\n",
       "    <tr>\n",
       "      <th>2022-01-28</th>\n",
       "      <td>2817.209961</td>\n",
       "      <td>2879.959961</td>\n",
       "      <td>2758.590088</td>\n",
       "      <td>2879.560059</td>\n",
       "      <td>2879.560059</td>\n",
       "      <td>3719600</td>\n",
       "    </tr>\n",
       "    <tr>\n",
       "      <th>2022-01-31</th>\n",
       "      <td>2895.000000</td>\n",
       "      <td>3007.209961</td>\n",
       "      <td>2886.010010</td>\n",
       "      <td>2991.469971</td>\n",
       "      <td>2991.469971</td>\n",
       "      <td>3915400</td>\n",
       "    </tr>\n",
       "  </tbody>\n",
       "</table>\n",
       "<p>526 rows × 6 columns</p>\n",
       "</div>"
      ],
      "text/plain": [
       "                   Open         High          Low        Close    Adj Close  \\\n",
       "Date                                                                          \n",
       "2019-12-31  1842.000000  1853.260010  1832.229980  1847.839966  1847.839966   \n",
       "2020-01-02  1875.000000  1898.010010  1864.150024  1898.010010  1898.010010   \n",
       "2020-01-03  1864.500000  1886.199951  1864.500000  1874.969971  1874.969971   \n",
       "2020-01-06  1860.000000  1903.689941  1860.000000  1902.880005  1902.880005   \n",
       "2020-01-07  1904.500000  1913.890015  1892.040039  1906.859985  1906.859985   \n",
       "...                 ...          ...          ...          ...          ...   \n",
       "2022-01-25  2844.850098  2872.000000  2762.899902  2799.719971  2799.719971   \n",
       "2022-01-26  2895.000000  2903.699951  2746.370117  2777.449951  2777.449951   \n",
       "2022-01-27  2816.000000  2884.870117  2787.000000  2792.750000  2792.750000   \n",
       "2022-01-28  2817.209961  2879.959961  2758.590088  2879.560059  2879.560059   \n",
       "2022-01-31  2895.000000  3007.209961  2886.010010  2991.469971  2991.469971   \n",
       "\n",
       "             Volume  \n",
       "Date                 \n",
       "2019-12-31  2506500  \n",
       "2020-01-02  4029000  \n",
       "2020-01-03  3764400  \n",
       "2020-01-06  4061800  \n",
       "2020-01-07  4044900  \n",
       "...             ...  \n",
       "2022-01-25  4541200  \n",
       "2022-01-26  4780100  \n",
       "2022-01-27  3875800  \n",
       "2022-01-28  3719600  \n",
       "2022-01-31  3915400  \n",
       "\n",
       "[526 rows x 6 columns]"
      ]
     },
     "execution_count": 6,
     "metadata": {},
     "output_type": "execute_result"
    }
   ],
   "source": [
    "data\n"
   ]
  },
  {
   "cell_type": "code",
   "execution_count": 7,
   "metadata": {},
   "outputs": [
    {
     "data": {
      "text/plain": [
       "pandas.core.frame.DataFrame"
      ]
     },
     "execution_count": 7,
     "metadata": {},
     "output_type": "execute_result"
    }
   ],
   "source": [
    "type(data)"
   ]
  },
  {
   "cell_type": "code",
   "execution_count": 9,
   "metadata": {},
   "outputs": [],
   "source": [
    "import requests\n",
    "\n",
    "from bs4 import BeautifulSoup\n",
    "\n",
    "res = requests.get(\"https://google.com/search?q=btc+on+yahoo+finance\")   "
   ]
  },
  {
   "cell_type": "code",
   "execution_count": 13,
   "metadata": {},
   "outputs": [],
   "source": [
    "soup = BeautifulSoup(res.content, 'html.parser') "
   ]
  },
  {
   "cell_type": "code",
   "execution_count": 15,
   "metadata": {},
   "outputs": [
    {
     "data": {
      "text/plain": [
       "[<a href=\"/?sa=X&amp;ved=0ahUKEwiCjNzNu_z2AhWf63MBHRrRBawQOwgC\"><span class=\"V6gwVd\">G</span><span class=\"iWkuvd\">o</span><span class=\"cDrQ7\">o</span><span class=\"V6gwVd\">g</span><span class=\"ntlR9\">l</span><span class=\"iWkuvd tJ3Myc\">e</span></a>,\n",
       " <a class=\"l\" href=\"/?output=search&amp;ie=UTF-8&amp;sa=X&amp;ved=0ahUKEwiCjNzNu_z2AhWf63MBHRrRBawQPAgE\"><span class=\"V6gwVd\">G</span><span class=\"iWkuvd\">o</span><span class=\"cDrQ7\">o</span><span class=\"V6gwVd\">g</span><span class=\"ntlR9\">l</span><span class=\"iWkuvd tJ3Myc\">e</span></a>,\n",
       " <a href=\"/search?q=btc+on+yahoo+finance&amp;ie=UTF-8&amp;gbv=1&amp;sei=k_hLYsL2F5_Xz7sPmqKX4Ao\">here</a>,\n",
       " <a class=\"eZt8xd\" href=\"/search?q=btc+on+yahoo+finance&amp;ie=UTF-8&amp;source=lnms&amp;tbm=nws&amp;sa=X&amp;ved=0ahUKEwiCjNzNu_z2AhWf63MBHRrRBawQ_AUICCgB\">News</a>,\n",
       " <a class=\"eZt8xd\" href=\"/search?q=btc+on+yahoo+finance&amp;ie=UTF-8&amp;source=lnms&amp;tbm=vid&amp;sa=X&amp;ved=0ahUKEwiCjNzNu_z2AhWf63MBHRrRBawQ_AUICSgC\">Videos</a>,\n",
       " <a class=\"eZt8xd\" href=\"/search?q=btc+on+yahoo+finance&amp;ie=UTF-8&amp;source=lnms&amp;tbm=isch&amp;sa=X&amp;ved=0ahUKEwiCjNzNu_z2AhWf63MBHRrRBawQ_AUICigD\">Images</a>,\n",
       " <a href=\"https://maps.google.com/maps?q=btc+on+yahoo+finance&amp;um=1&amp;ie=UTF-8&amp;sa=X&amp;ved=0ahUKEwiCjNzNu_z2AhWf63MBHRrRBawQ_AUICygE\">Maps</a>,\n",
       " <a href=\"/search?q=btc+on+yahoo+finance&amp;ie=UTF-8&amp;source=lnms&amp;tbm=shop&amp;sa=X&amp;ved=0ahUKEwiCjNzNu_z2AhWf63MBHRrRBawQ_AUIDCgF\">Shopping</a>,\n",
       " <a href=\"/search?q=btc+on+yahoo+finance&amp;ie=UTF-8&amp;source=lnms&amp;tbm=bks&amp;sa=X&amp;ved=0ahUKEwiCjNzNu_z2AhWf63MBHRrRBawQ_AUIDSgG\">Books</a>,\n",
       " <a href=\"/advanced_search\" id=\"st-toggle\" role=\"button\" style=\"white-space:nowrap\">Search tools</a>,\n",
       " <a href=\"/search?q=btc+on+yahoo+finance&amp;ie=UTF-8&amp;source=lnt&amp;tbs=qdr:h&amp;sa=X&amp;ved=0ahUKEwiCjNzNu_z2AhWf63MBHRrRBawQpwUIDw\">Past hour</a>,\n",
       " <a href=\"/search?q=btc+on+yahoo+finance&amp;ie=UTF-8&amp;source=lnt&amp;tbs=qdr:d&amp;sa=X&amp;ved=0ahUKEwiCjNzNu_z2AhWf63MBHRrRBawQpwUIEA\">Past 24 hours</a>,\n",
       " <a href=\"/search?q=btc+on+yahoo+finance&amp;ie=UTF-8&amp;source=lnt&amp;tbs=qdr:w&amp;sa=X&amp;ved=0ahUKEwiCjNzNu_z2AhWf63MBHRrRBawQpwUIEQ\">Past week</a>,\n",
       " <a href=\"/search?q=btc+on+yahoo+finance&amp;ie=UTF-8&amp;source=lnt&amp;tbs=qdr:m&amp;sa=X&amp;ved=0ahUKEwiCjNzNu_z2AhWf63MBHRrRBawQpwUIEg\">Past month</a>,\n",
       " <a href=\"/search?q=btc+on+yahoo+finance&amp;ie=UTF-8&amp;source=lnt&amp;tbs=qdr:y&amp;sa=X&amp;ved=0ahUKEwiCjNzNu_z2AhWf63MBHRrRBawQpwUIEw\">Past year</a>,\n",
       " <a href=\"/search?q=btc+on+yahoo+finance&amp;ie=UTF-8&amp;source=lnt&amp;tbs=li:1&amp;sa=X&amp;ved=0ahUKEwiCjNzNu_z2AhWf63MBHRrRBawQpwUIFQ\">Verbatim</a>,\n",
       " <a href=\"/url?q=https://finance.yahoo.com/quote/BTC-USD/&amp;sa=U&amp;ved=2ahUKEwiCjNzNu_z2AhWf63MBHRrRBawQFnoECAUQAg&amp;usg=AOvVaw3B1IVDiFE_-jLuor0e07g3\"><h3 class=\"zBAuLc l97dzf\"><div class=\"BNeawe vvjwJb AP7Wnd\">Bitcoin USD (BTC-USD) Price, Value, News &amp; History - Yahoo Finance</div></h3><div class=\"BNeawe UPmit AP7Wnd\">finance.yahoo.com › quote › BTC-USD</div></a>,\n",
       " <a href=\"/url?q=https://finance.yahoo.com/chart/BTC-USD/&amp;sa=U&amp;ved=2ahUKEwiCjNzNu_z2AhWf63MBHRrRBawQ0gJ6BAgFEAU&amp;usg=AOvVaw3fGJKn3zEPTcQTXnBMyrXk\"><span class=\"XLloXe AP7Wnd\">This chart is not available</span></a>,\n",
       " <a href=\"/url?q=https://finance.yahoo.com/quote/BTC-USD/community/&amp;sa=U&amp;ved=2ahUKEwiCjNzNu_z2AhWf63MBHRrRBawQ0gJ6BAgFEAY&amp;usg=AOvVaw3JFLucqoXNMV3_xaC2-8ng\"><span class=\"XLloXe AP7Wnd\">Conversations</span></a>,\n",
       " <a href=\"/url?q=https://finance.yahoo.com/news/bitcoin-btc-treads-water-markets-010348922.html&amp;sa=U&amp;ved=2ahUKEwiCjNzNu_z2AhWf63MBHRrRBawQ0gJ6BAgFEAc&amp;usg=AOvVaw0nNqqSgaUwfdsInYCB0Qfc\"><span class=\"XLloXe AP7Wnd\">Bitcoin (BTC) Treads Water as...</span></a>,\n",
       " <a href=\"/url?q=https://finance.yahoo.com/quote/BTC-USD/profile/&amp;sa=U&amp;ved=2ahUKEwiCjNzNu_z2AhWf63MBHRrRBawQ0gJ6BAgFEAg&amp;usg=AOvVaw0blxceKUl1eurdq1VabKJo\"><span class=\"XLloXe AP7Wnd\">Profile</span></a>,\n",
       " <a href=\"/url?q=https://finance.yahoo.com/quote/BTC-USD%3Fp%3DBTC-USD&amp;sa=U&amp;ved=2ahUKEwiCjNzNu_z2AhWf63MBHRrRBawQFnoECAEQAg&amp;usg=AOvVaw0f4-UNhr4aZPNaxSnS-Hg6\"><h3 class=\"zBAuLc l97dzf\"><div class=\"BNeawe vvjwJb AP7Wnd\">Bitcoin USD (BTC-USD) Price, Value, News &amp; History - Yahoo Finance</div></h3><div class=\"BNeawe UPmit AP7Wnd\">finance.yahoo.com › quote › BTC-USD › p=BTC-USD</div></a>,\n",
       " <a href=\"/url?q=https://finance.yahoo.com/quote/BTC-USD/chart/&amp;sa=U&amp;ved=2ahUKEwiCjNzNu_z2AhWf63MBHRrRBawQFnoECAoQAg&amp;usg=AOvVaw12odgvVhcihTYzfWSIb_Nt\"><h3 class=\"zBAuLc l97dzf\"><div class=\"BNeawe vvjwJb AP7Wnd\">Bitcoin USD (BTC-USD) Interactive Price Chart - Yahoo Finance</div></h3><div class=\"BNeawe UPmit AP7Wnd\">finance.yahoo.com › quote › BTC-USD › chart</div></a>,\n",
       " <a href=\"/url?q=https://sg.finance.yahoo.com/quote/BTC-USD/&amp;sa=U&amp;ved=2ahUKEwiCjNzNu_z2AhWf63MBHRrRBawQFnoECAIQAg&amp;usg=AOvVaw3l3vxDUedu4D9A1TbgMI_o\"><h3 class=\"zBAuLc l97dzf\"><div class=\"BNeawe vvjwJb AP7Wnd\">Bitcoin USD (BTC-USD) price, value, news &amp; history - Yahoo Finance</div></h3><div class=\"BNeawe UPmit AP7Wnd\">sg.finance.yahoo.com › quote › BTC-USD</div></a>,\n",
       " <a href=\"/url?q=https://finance.yahoo.com/chart/BTC-USD/&amp;sa=U&amp;ved=2ahUKEwiCjNzNu_z2AhWf63MBHRrRBawQFnoECAgQAg&amp;usg=AOvVaw2YvcAy6eJexONwON8tRsOf\"><h3 class=\"zBAuLc l97dzf\"><div class=\"BNeawe vvjwJb AP7Wnd\">BTC-USD Interactive Stock Chart | Bitcoin USD Stock - Yahoo Finance</div></h3><div class=\"BNeawe UPmit AP7Wnd\">finance.yahoo.com › chart › BTC-USD</div></a>,\n",
       " <a href=\"/url?q=https://finance.yahoo.com/quote/BTC-USD/community/&amp;sa=U&amp;ved=2ahUKEwiCjNzNu_z2AhWf63MBHRrRBawQFnoECAkQAg&amp;usg=AOvVaw1ujetdPFwkxC9ef6noiN67\"><h3 class=\"zBAuLc l97dzf\"><div class=\"BNeawe vvjwJb AP7Wnd\">Bitcoin USD (BTC-USD) Cryptocurrency Forum &amp; Discussion</div></h3><div class=\"BNeawe UPmit AP7Wnd\">finance.yahoo.com › quote › BTC-USD › community</div></a>,\n",
       " <a href=\"/url?q=https://finance.yahoo.com/quote/BTC-INR/history/&amp;sa=U&amp;ved=2ahUKEwiCjNzNu_z2AhWf63MBHRrRBawQFnoECAQQAg&amp;usg=AOvVaw3BlU07jPdwSqjepDodWX0O\"><h3 class=\"zBAuLc l97dzf\"><div class=\"BNeawe vvjwJb AP7Wnd\">Bitcoin INR (BTC-INR) Price History &amp; Historical Data - Yahoo Finance</div></h3><div class=\"BNeawe UPmit AP7Wnd\">finance.yahoo.com › quote › BTC-INR › history</div></a>,\n",
       " <a href=\"/url?q=https://finance.yahoo.com/quote/BTC-USD/history/&amp;sa=U&amp;ved=2ahUKEwiCjNzNu_z2AhWf63MBHRrRBawQFnoECAMQAg&amp;usg=AOvVaw2rwoq2i-UfuRhZIdWxXGMi\"><h3 class=\"zBAuLc l97dzf\"><div class=\"BNeawe vvjwJb AP7Wnd\">BTC-USD - Bitcoin USD - Bitcoin USD (BTC-USD) Price History ...</div></h3><div class=\"BNeawe UPmit AP7Wnd\">finance.yahoo.com › quote › BTC-USD › history</div></a>,\n",
       " <a href=\"/url?q=https://uk.finance.yahoo.com/quote/BTC-USD%3Fp%3DBTC-USD&amp;sa=U&amp;ved=2ahUKEwiCjNzNu_z2AhWf63MBHRrRBawQFnoECAcQAg&amp;usg=AOvVaw3hfjxQDgK2hxayu1LVWLwF\"><h3 class=\"zBAuLc l97dzf\"><div class=\"BNeawe vvjwJb AP7Wnd\">Bitcoin USD (BTC-USD) price, value, news &amp; history - Yahoo Finance</div></h3><div class=\"BNeawe UPmit AP7Wnd\">uk.finance.yahoo.com › quote › BTC-USD › p=BTC-USD</div></a>,\n",
       " <a href=\"/url?q=https://finance.yahoo.com/cryptocurrencies/&amp;sa=U&amp;ved=2ahUKEwiCjNzNu_z2AhWf63MBHRrRBawQFnoECAAQAg&amp;usg=AOvVaw2UGRvfh74spLLWxUdUUwZl\"><h3 class=\"zBAuLc l97dzf\"><div class=\"BNeawe vvjwJb AP7Wnd\">Cryptocurrency List &amp; Prices, Top Cryptocurrencies - Yahoo Finance</div></h3><div class=\"BNeawe UPmit AP7Wnd\">finance.yahoo.com › cryptocurrencies</div></a>,\n",
       " <a class=\"Q71vJc\" href=\"/search?ie=UTF-8&amp;q=BTC+to+USD&amp;sa=X&amp;ved=2ahUKEwiCjNzNu_z2AhWf63MBHRrRBawQ1QJ6BAgLEAI\"><accordion-entry-search-icon><span class=\"ieB2Dd\"><img alt=\"\" class=\"OEaqif\" data-deferred=\"1\" id=\"dimg_1\" src=\"data:image/gif;base64,R0lGODlhAQABAIAAAP///////yH5BAEKAAEALAAAAAABAAEAAAICTAEAOw==\" style=\"max-width:20px;max-height:20px\"/></span></accordion-entry-search-icon><div class=\"kjGX2\"><span><div class=\"BNeawe s3v9rd AP7Wnd lRVwie\">BTC to USD</div></span></div></a>,\n",
       " <a class=\"Q71vJc\" href=\"/search?ie=UTF-8&amp;q=Bitcoin&amp;sa=X&amp;ved=2ahUKEwiCjNzNu_z2AhWf63MBHRrRBawQ1QJ6BAgLEAQ\"><accordion-entry-search-icon><span class=\"ieB2Dd\"><img alt=\"\" class=\"OEaqif\" data-deferred=\"1\" id=\"dimg_3\" src=\"data:image/gif;base64,R0lGODlhAQABAIAAAP///////yH5BAEKAAEALAAAAAABAAEAAAICTAEAOw==\" style=\"max-width:20px;max-height:20px\"/></span></accordion-entry-search-icon><div class=\"kjGX2\"><span><div class=\"BNeawe s3v9rd AP7Wnd lRVwie\">Bitcoin</div></span></div></a>,\n",
       " <a class=\"Q71vJc\" href=\"/search?ie=UTF-8&amp;q=Bitcoin+price&amp;sa=X&amp;ved=2ahUKEwiCjNzNu_z2AhWf63MBHRrRBawQ1QJ6BAgLEAY\"><accordion-entry-search-icon><span class=\"ieB2Dd\"><img alt=\"\" class=\"OEaqif\" data-deferred=\"1\" id=\"dimg_5\" src=\"data:image/gif;base64,R0lGODlhAQABAIAAAP///////yH5BAEKAAEALAAAAAABAAEAAAICTAEAOw==\" style=\"max-width:20px;max-height:20px\"/></span></accordion-entry-search-icon><div class=\"kjGX2\"><span><div class=\"BNeawe s3v9rd AP7Wnd lRVwie\">Bitcoin price</div></span></div></a>,\n",
       " <a class=\"Q71vJc\" href=\"/search?ie=UTF-8&amp;q=BTC+to+INR&amp;sa=X&amp;ved=2ahUKEwiCjNzNu_z2AhWf63MBHRrRBawQ1QJ6BAgLEAg\"><accordion-entry-search-icon><span class=\"ieB2Dd\"><img alt=\"\" class=\"OEaqif\" data-deferred=\"1\" id=\"dimg_7\" src=\"data:image/gif;base64,R0lGODlhAQABAIAAAP///////yH5BAEKAAEALAAAAAABAAEAAAICTAEAOw==\" style=\"max-width:20px;max-height:20px\"/></span></accordion-entry-search-icon><div class=\"kjGX2\"><span><div class=\"BNeawe s3v9rd AP7Wnd lRVwie\">BTC to INR</div></span></div></a>,\n",
       " <a class=\"Q71vJc\" href=\"/search?ie=UTF-8&amp;q=Bitcoin+price+live&amp;sa=X&amp;ved=2ahUKEwiCjNzNu_z2AhWf63MBHRrRBawQ1QJ6BAgLEAo\"><accordion-entry-search-icon><span class=\"ieB2Dd\"><img alt=\"\" class=\"OEaqif\" data-deferred=\"1\" id=\"dimg_9\" src=\"data:image/gif;base64,R0lGODlhAQABAIAAAP///////yH5BAEKAAEALAAAAAABAAEAAAICTAEAOw==\" style=\"max-width:20px;max-height:20px\"/></span></accordion-entry-search-icon><div class=\"kjGX2\"><span><div class=\"BNeawe s3v9rd AP7Wnd lRVwie\">Bitcoin price live</div></span></div></a>,\n",
       " <a class=\"Q71vJc\" href=\"/search?ie=UTF-8&amp;q=Bitcoin+price+USD&amp;sa=X&amp;ved=2ahUKEwiCjNzNu_z2AhWf63MBHRrRBawQ1QJ6BAgLEAw\"><accordion-entry-search-icon><span class=\"ieB2Dd\"><img alt=\"\" class=\"OEaqif\" data-deferred=\"1\" id=\"dimg_11\" src=\"data:image/gif;base64,R0lGODlhAQABAIAAAP///////yH5BAEKAAEALAAAAAABAAEAAAICTAEAOw==\" style=\"max-width:20px;max-height:20px\"/></span></accordion-entry-search-icon><div class=\"kjGX2\"><span><div class=\"BNeawe s3v9rd AP7Wnd lRVwie\">Bitcoin price USD</div></span></div></a>,\n",
       " <a class=\"Q71vJc\" href=\"/search?ie=UTF-8&amp;q=How+to+buy+Bitcoin&amp;sa=X&amp;ved=2ahUKEwiCjNzNu_z2AhWf63MBHRrRBawQ1QJ6BAgLEA4\"><accordion-entry-search-icon><span class=\"ieB2Dd\"><img alt=\"\" class=\"OEaqif\" data-deferred=\"1\" id=\"dimg_13\" src=\"data:image/gif;base64,R0lGODlhAQABAIAAAP///////yH5BAEKAAEALAAAAAABAAEAAAICTAEAOw==\" style=\"max-width:20px;max-height:20px\"/></span></accordion-entry-search-icon><div class=\"kjGX2\"><span><div class=\"BNeawe s3v9rd AP7Wnd lRVwie\">How to buy Bitcoin</div></span></div></a>,\n",
       " <a class=\"Q71vJc\" href=\"/search?ie=UTF-8&amp;q=Bitcoin+price+history&amp;sa=X&amp;ved=2ahUKEwiCjNzNu_z2AhWf63MBHRrRBawQ1QJ6BAgLEBA\"><accordion-entry-search-icon><span class=\"ieB2Dd\"><img alt=\"\" class=\"OEaqif\" data-deferred=\"1\" id=\"dimg_15\" src=\"data:image/gif;base64,R0lGODlhAQABAIAAAP///////yH5BAEKAAEALAAAAAABAAEAAAICTAEAOw==\" style=\"max-width:20px;max-height:20px\"/></span></accordion-entry-search-icon><div class=\"kjGX2\"><span><div class=\"BNeawe s3v9rd AP7Wnd lRVwie\">Bitcoin price history</div></span></div></a>,\n",
       " <a aria-label=\"Next page\" class=\"nBDE1b G5eFlf\" href=\"/search?q=btc+on+yahoo+finance&amp;ie=UTF-8&amp;ei=k_hLYsL2F5_Xz7sPmqKX4Ao&amp;start=10&amp;sa=N\">Next &gt;</a>,\n",
       " <a href=\"/url?q=https://support.google.com/websearch%3Fp%3Dws_settings_location%26hl%3Den-IN&amp;sa=U&amp;ved=0ahUKEwiCjNzNu_z2AhWf63MBHRrRBawQty4Idg&amp;usg=AOvVaw13dCCkDdtOGgOX-SZ9m5j8\">Learn more</a>,\n",
       " <a href=\"/url?q=https://accounts.google.com/ServiceLogin%3Fcontinue%3Dhttps://www.google.com/search%253Fq%253Dbtc%252Bon%252Byahoo%252Bfinance%26hl%3Den&amp;sa=U&amp;ved=0ahUKEwiCjNzNu_z2AhWf63MBHRrRBawQxs8CCHc&amp;usg=AOvVaw2QnswiTIieFZx1OI22qmTo\">Sign in</a>,\n",
       " <a class=\"xeDNfc\" href=\"https://www.google.com/preferences?hl=en-IN&amp;fg=1&amp;sa=X&amp;ved=0ahUKEwiCjNzNu_z2AhWf63MBHRrRBawQ5fUCCHg\">Settings</a>,\n",
       " <a class=\"xeDNfc\" href=\"https://policies.google.com/privacy?hl=en-IN&amp;fg=1\">Privacy</a>,\n",
       " <a class=\"xeDNfc\" href=\"https://policies.google.com/terms?hl=en-IN&amp;fg=1\">Terms</a>]"
      ]
     },
     "execution_count": 15,
     "metadata": {},
     "output_type": "execute_result"
    }
   ],
   "source": [
    "BeautifulSoup(requests.get(\"https://google.com/search?q=btc+on+yahoo+finance\").content, 'html.parser').find_all('a')"
   ]
  },
  {
   "cell_type": "code",
   "execution_count": 16,
   "metadata": {},
   "outputs": [
    {
     "data": {
      "text/plain": [
       "[<a href=\"/?sa=X&amp;ved=0ahUKEwjTkvDXu_z2AhWt7HMBHTy6AW8QOwgC\"><span class=\"V6gwVd\">G</span><span class=\"iWkuvd\">o</span><span class=\"cDrQ7\">o</span><span class=\"V6gwVd\">g</span><span class=\"ntlR9\">l</span><span class=\"iWkuvd tJ3Myc\">e</span></a>,\n",
       " <a class=\"l\" href=\"/?output=search&amp;ie=UTF-8&amp;sa=X&amp;ved=0ahUKEwjTkvDXu_z2AhWt7HMBHTy6AW8QPAgE\"><span class=\"V6gwVd\">G</span><span class=\"iWkuvd\">o</span><span class=\"cDrQ7\">o</span><span class=\"V6gwVd\">g</span><span class=\"ntlR9\">l</span><span class=\"iWkuvd tJ3Myc\">e</span></a>,\n",
       " <a href=\"/search?q=amaazon+on+yahoo+finance&amp;ie=UTF-8&amp;gbv=1&amp;sei=qPhLYtOeKq3Zz7sPvPSG-AY\">here</a>,\n",
       " <a class=\"eZt8xd\" href=\"/search?q=amazon+on+yahoo+finance&amp;ie=UTF-8&amp;source=lnms&amp;tbm=nws&amp;sa=X&amp;ved=0ahUKEwjTkvDXu_z2AhWt7HMBHTy6AW8Q_AUICCgB\">News</a>,\n",
       " <a class=\"eZt8xd\" href=\"/search?q=amazon+on+yahoo+finance&amp;ie=UTF-8&amp;source=lnms&amp;tbm=shop&amp;sa=X&amp;ved=0ahUKEwjTkvDXu_z2AhWt7HMBHTy6AW8Q_AUICSgC\">Shopping</a>,\n",
       " <a class=\"eZt8xd\" href=\"/search?q=amazon+on+yahoo+finance&amp;ie=UTF-8&amp;source=lnms&amp;tbm=isch&amp;sa=X&amp;ved=0ahUKEwjTkvDXu_z2AhWt7HMBHTy6AW8Q_AUICigD\">Images</a>,\n",
       " <a href=\"https://maps.google.com/maps?q=amazon+on+yahoo+finance&amp;um=1&amp;ie=UTF-8&amp;sa=X&amp;ved=0ahUKEwjTkvDXu_z2AhWt7HMBHTy6AW8Q_AUICygE\">Maps</a>,\n",
       " <a href=\"/search?q=amazon+on+yahoo+finance&amp;ie=UTF-8&amp;source=lnms&amp;tbm=vid&amp;sa=X&amp;ved=0ahUKEwjTkvDXu_z2AhWt7HMBHTy6AW8Q_AUIDCgF\">Videos</a>,\n",
       " <a href=\"/search?q=amazon+on+yahoo+finance&amp;ie=UTF-8&amp;source=lnms&amp;tbm=bks&amp;sa=X&amp;ved=0ahUKEwjTkvDXu_z2AhWt7HMBHTy6AW8Q_AUIDSgG\">Books</a>,\n",
       " <a href=\"/advanced_search\" id=\"st-toggle\" role=\"button\" style=\"white-space:nowrap\">Search tools</a>,\n",
       " <a href=\"/search?q=amazon+on+yahoo+finance&amp;ie=UTF-8&amp;source=lnt&amp;tbs=qdr:h&amp;sa=X&amp;ved=0ahUKEwjTkvDXu_z2AhWt7HMBHTy6AW8QpwUIDw\">Past hour</a>,\n",
       " <a href=\"/search?q=amazon+on+yahoo+finance&amp;ie=UTF-8&amp;source=lnt&amp;tbs=qdr:d&amp;sa=X&amp;ved=0ahUKEwjTkvDXu_z2AhWt7HMBHTy6AW8QpwUIEA\">Past 24 hours</a>,\n",
       " <a href=\"/search?q=amazon+on+yahoo+finance&amp;ie=UTF-8&amp;source=lnt&amp;tbs=qdr:w&amp;sa=X&amp;ved=0ahUKEwjTkvDXu_z2AhWt7HMBHTy6AW8QpwUIEQ\">Past week</a>,\n",
       " <a href=\"/search?q=amazon+on+yahoo+finance&amp;ie=UTF-8&amp;source=lnt&amp;tbs=qdr:m&amp;sa=X&amp;ved=0ahUKEwjTkvDXu_z2AhWt7HMBHTy6AW8QpwUIEg\">Past month</a>,\n",
       " <a href=\"/search?q=amazon+on+yahoo+finance&amp;ie=UTF-8&amp;source=lnt&amp;tbs=qdr:y&amp;sa=X&amp;ved=0ahUKEwjTkvDXu_z2AhWt7HMBHTy6AW8QpwUIEw\">Past year</a>,\n",
       " <a href=\"/search?q=amaazon+on+yahoo+finance&amp;ie=UTF-8&amp;source=lnt&amp;tbs=li:1&amp;sa=X&amp;ved=0ahUKEwjTkvDXu_z2AhWt7HMBHTy6AW8QpwUIFQ\">Verbatim</a>,\n",
       " <a data-ved=\"2ahUKEwjTkvDXu_z2AhWt7HMBHTy6AW8QkeECegQIDRAB\" href=\"/search?ie=UTF-8&amp;q=amazon+on+yahoo+finance&amp;spell=1\" id=\"scl\"><span><b><i>amazon</i></b> on yahoo finance</span></a>,\n",
       " <a href=\"/search?ie=UTF-8&amp;q=amaazon+on+yahoo+finance&amp;nfpr=1&amp;sa=X&amp;ved=2ahUKEwjTkvDXu_z2AhWt7HMBHTy6AW8QvgV6BAgNEAI\">amaazon on yahoo finance</a>,\n",
       " <a href=\"/url?q=https://finance.yahoo.com/quote/AMZN/&amp;sa=U&amp;ved=2ahUKEwjTkvDXu_z2AhWt7HMBHTy6AW8QFnoECAcQAg&amp;usg=AOvVaw2031_014SwX5lqWZxPpPGe\"><h3 class=\"zBAuLc l97dzf\"><div class=\"BNeawe vvjwJb AP7Wnd\">Amazon.com, Inc. (AMZN) Stock Price, News, Quote &amp; History</div></h3><div class=\"BNeawe UPmit AP7Wnd\">finance.yahoo.com › quote › AMZN</div></a>,\n",
       " <a href=\"/url?q=https://finance.yahoo.com/quote/AMZN/community/&amp;sa=U&amp;ved=2ahUKEwjTkvDXu_z2AhWt7HMBHTy6AW8Q0gJ6BAgHEAU&amp;usg=AOvVaw0m_cDIyTctX3KazSWt51bK\"><span class=\"XLloXe AP7Wnd\">Stock Forum &amp; Discussion</span></a>,\n",
       " <a href=\"/url?q=https://finance.yahoo.com/quote/AMZN/news%3Fp%3DAMZN&amp;sa=U&amp;ved=2ahUKEwjTkvDXu_z2AhWt7HMBHTy6AW8Q0gJ6BAgHEAY&amp;usg=AOvVaw0BTdKHbzSc_kgAvjr1UIoy\"><span class=\"XLloXe AP7Wnd\">News</span></a>,\n",
       " <a href=\"/url?q=https://finance.yahoo.com/video/amazon-stock-split-just-one-205000348.html&amp;sa=U&amp;ved=2ahUKEwjTkvDXu_z2AhWt7HMBHTy6AW8Q0gJ6BAgHEAc&amp;usg=AOvVaw3Lw7GKAhBzSKSlXLIGPIDV\"><span class=\"XLloXe AP7Wnd\">Amazon stock split 'just one...</span></a>,\n",
       " <a href=\"/url?q=https://finance.yahoo.com/quote/AMZN/history/&amp;sa=U&amp;ved=2ahUKEwjTkvDXu_z2AhWt7HMBHTy6AW8Q0gJ6BAgHEAg&amp;usg=AOvVaw3T-PiwigLZk5fzv_CS7UNj\"><span class=\"XLloXe AP7Wnd\">Historical Data</span></a>,\n",
       " <a href=\"/url?q=https://finance.yahoo.com/quote/AMZN%253B/&amp;sa=U&amp;ved=2ahUKEwjTkvDXu_z2AhWt7HMBHTy6AW8QFnoECAsQAg&amp;usg=AOvVaw0_DpazypXFPIFL7fbUZ5Cc\"><h3 class=\"zBAuLc l97dzf\"><div class=\"BNeawe vvjwJb AP7Wnd\">Amazon.com, Inc. (AMZN;) Stock Price, News, Quote &amp; History</div></h3><div class=\"BNeawe UPmit AP7Wnd\">finance.yahoo.com › quote</div></a>,\n",
       " <a href=\"/url?q=https://finance.yahoo.com/quote/AMZN/history/&amp;sa=U&amp;ved=2ahUKEwjTkvDXu_z2AhWt7HMBHTy6AW8QFnoECAEQAg&amp;usg=AOvVaw0FSv83ca8k59myRHTiqQa-\"><h3 class=\"zBAuLc l97dzf\"><div class=\"BNeawe vvjwJb AP7Wnd\">Amazon.com, Inc. (AMZN) Stock Historical Prices &amp; Data - Yahoo ...</div></h3><div class=\"BNeawe UPmit AP7Wnd\">finance.yahoo.com › quote › AMZN › history</div></a>,\n",
       " <a href=\"/url?q=https://finance.yahoo.com/quote/amzn/news%3Fltr%3D1&amp;sa=U&amp;ved=2ahUKEwjTkvDXu_z2AhWt7HMBHTy6AW8QFnoECAMQAg&amp;usg=AOvVaw2AHLE-PVjBAlCCQmnCvkCU\"><h3 class=\"zBAuLc l97dzf\"><div class=\"BNeawe vvjwJb AP7Wnd\">Amazon.com, Inc. (AMZN) Latest Stock News &amp; Headlines</div></h3><div class=\"BNeawe UPmit AP7Wnd\">finance.yahoo.com › quote › amzn › news</div></a>,\n",
       " <a href=\"/url?q=https://finance.yahoo.com/news/amazon-workers-won-the-companys-first-us-union-heres-what-happens-next-201212328.html&amp;sa=U&amp;ved=2ahUKEwjTkvDXu_z2AhWt7HMBHTy6AW8QFnoECAoQAg&amp;usg=AOvVaw2LIn74ekOgOLHkurRR2rmv\"><h3 class=\"zBAuLc l97dzf\"><div class=\"BNeawe vvjwJb AP7Wnd\">Amazon workers won the company's first US union - Yahoo Finance</div></h3><div class=\"BNeawe UPmit AP7Wnd\">finance.yahoo.com › news › amazon-workers-won-the-companys-first-us-...</div></a>,\n",
       " <a href=\"/url?q=https://finance.yahoo.com/quote/AMZN/key-statistics/&amp;sa=U&amp;ved=2ahUKEwjTkvDXu_z2AhWt7HMBHTy6AW8QFnoECAkQAg&amp;usg=AOvVaw0F18SrKxlQiJOw5WRNv4Xd\"><h3 class=\"zBAuLc l97dzf\"><div class=\"BNeawe vvjwJb AP7Wnd\">Amazon.com, Inc. (AMZN) Valuation Measures &amp; Financial Statistics</div></h3><div class=\"BNeawe UPmit AP7Wnd\">finance.yahoo.com › quote › AMZN › key-statistics</div></a>,\n",
       " <a href=\"/url?q=https://finance.yahoo.com/quote/AMZN/community/&amp;sa=U&amp;ved=2ahUKEwjTkvDXu_z2AhWt7HMBHTy6AW8QFnoECAgQAg&amp;usg=AOvVaw0IYTmnmqobGpjvyl30ZKgV\"><h3 class=\"zBAuLc l97dzf\"><div class=\"BNeawe vvjwJb AP7Wnd\">Amazon.com, Inc. (AMZN) Stock Forum &amp; Discussion - Yahoo Finance</div></h3><div class=\"BNeawe UPmit AP7Wnd\">finance.yahoo.com › quote › AMZN › community</div></a>,\n",
       " <a href=\"/url?q=https://finance.yahoo.com/chart/AMZN/&amp;sa=U&amp;ved=2ahUKEwjTkvDXu_z2AhWt7HMBHTy6AW8QFnoECAAQAg&amp;usg=AOvVaw2137e__NB_LPa2HgrrQf_o\"><h3 class=\"zBAuLc l97dzf\"><div class=\"BNeawe vvjwJb AP7Wnd\">AMZN Interactive Stock Chart | Amazon.com, Inc. Stock</div></h3><div class=\"BNeawe UPmit AP7Wnd\">finance.yahoo.com › chart › AMZN</div></a>,\n",
       " <a href=\"/url?q=https://finance.yahoo.com/quote/AMZN/news/&amp;sa=U&amp;ved=2ahUKEwjTkvDXu_z2AhWt7HMBHTy6AW8QFnoECAIQAg&amp;usg=AOvVaw0pRFX9-IaNic466XL2EQj9\"><h3 class=\"zBAuLc l97dzf\"><div class=\"BNeawe vvjwJb AP7Wnd\">Amazon.com, Inc. (AMZN) Latest Stock News &amp; Headlines</div></h3><div class=\"BNeawe UPmit AP7Wnd\">finance.yahoo.com › quote › AMZN › news</div></a>,\n",
       " <a href=\"/url?q=https://finance.yahoo.com/quote/AMZN/profile/&amp;sa=U&amp;ved=2ahUKEwjTkvDXu_z2AhWt7HMBHTy6AW8QFnoECAQQAg&amp;usg=AOvVaw1Z0CiXx872q9eQf7qEPnSL\"><h3 class=\"zBAuLc l97dzf\"><div class=\"BNeawe vvjwJb AP7Wnd\">Amazon.com, Inc. (AMZN) Company Profile &amp; Facts - Yahoo Finance</div></h3><div class=\"BNeawe UPmit AP7Wnd\">finance.yahoo.com › quote › AMZN › profile</div></a>,\n",
       " <a class=\"Q71vJc\" href=\"/search?ie=UTF-8&amp;q=Tesla+Yahoo+Finance&amp;sa=X&amp;ved=2ahUKEwjTkvDXu_z2AhWt7HMBHTy6AW8Q1QJ6BAgMEAI\"><accordion-entry-search-icon><span class=\"ieB2Dd\"><img alt=\"\" class=\"OEaqif\" data-deferred=\"1\" id=\"dimg_1\" src=\"data:image/gif;base64,R0lGODlhAQABAIAAAP///////yH5BAEKAAEALAAAAAABAAEAAAICTAEAOw==\" style=\"max-width:20px;max-height:20px\"/></span></accordion-entry-search-icon><div class=\"kjGX2\"><span><div class=\"BNeawe s3v9rd AP7Wnd lRVwie\">Tesla Yahoo Finance</div></span></div></a>,\n",
       " <a class=\"Q71vJc\" href=\"/search?ie=UTF-8&amp;q=Apple+yahoo+Finance&amp;sa=X&amp;ved=2ahUKEwjTkvDXu_z2AhWt7HMBHTy6AW8Q1QJ6BAgMEAQ\"><accordion-entry-search-icon><span class=\"ieB2Dd\"><img alt=\"\" class=\"OEaqif\" data-deferred=\"1\" id=\"dimg_3\" src=\"data:image/gif;base64,R0lGODlhAQABAIAAAP///////yH5BAEKAAEALAAAAAABAAEAAAICTAEAOw==\" style=\"max-width:20px;max-height:20px\"/></span></accordion-entry-search-icon><div class=\"kjGX2\"><span><div class=\"BNeawe s3v9rd AP7Wnd lRVwie\">Apple yahoo Finance</div></span></div></a>,\n",
       " <a class=\"Q71vJc\" href=\"/search?ie=UTF-8&amp;q=Facebook+yahoo+Finance&amp;sa=X&amp;ved=2ahUKEwjTkvDXu_z2AhWt7HMBHTy6AW8Q1QJ6BAgMEAY\"><accordion-entry-search-icon><span class=\"ieB2Dd\"><img alt=\"\" class=\"OEaqif\" data-deferred=\"1\" id=\"dimg_5\" src=\"data:image/gif;base64,R0lGODlhAQABAIAAAP///////yH5BAEKAAEALAAAAAABAAEAAAICTAEAOw==\" style=\"max-width:20px;max-height:20px\"/></span></accordion-entry-search-icon><div class=\"kjGX2\"><span><div class=\"BNeawe s3v9rd AP7Wnd lRVwie\">Facebook yahoo Finance</div></span></div></a>,\n",
       " <a class=\"Q71vJc\" href=\"/search?ie=UTF-8&amp;q=Amazon+CEO&amp;sa=X&amp;ved=2ahUKEwjTkvDXu_z2AhWt7HMBHTy6AW8Q1QJ6BAgMEAg\"><accordion-entry-search-icon><span class=\"ieB2Dd\"><img alt=\"\" class=\"OEaqif\" data-deferred=\"1\" id=\"dimg_7\" src=\"data:image/gif;base64,R0lGODlhAQABAIAAAP///////yH5BAEKAAEALAAAAAABAAEAAAICTAEAOw==\" style=\"max-width:20px;max-height:20px\"/></span></accordion-entry-search-icon><div class=\"kjGX2\"><span><div class=\"BNeawe s3v9rd AP7Wnd lRVwie\">Amazon CEO</div></span></div></a>,\n",
       " <a class=\"Q71vJc\" href=\"/search?ie=UTF-8&amp;q=Google+Yahoo+Finance&amp;sa=X&amp;ved=2ahUKEwjTkvDXu_z2AhWt7HMBHTy6AW8Q1QJ6BAgMEAo\"><accordion-entry-search-icon><span class=\"ieB2Dd\"><img alt=\"\" class=\"OEaqif\" data-deferred=\"1\" id=\"dimg_9\" src=\"data:image/gif;base64,R0lGODlhAQABAIAAAP///////yH5BAEKAAEALAAAAAABAAEAAAICTAEAOw==\" style=\"max-width:20px;max-height:20px\"/></span></accordion-entry-search-icon><div class=\"kjGX2\"><span><div class=\"BNeawe s3v9rd AP7Wnd lRVwie\">Google Yahoo Finance</div></span></div></a>,\n",
       " <a class=\"Q71vJc\" href=\"/search?ie=UTF-8&amp;q=Amazon+stock&amp;sa=X&amp;ved=2ahUKEwjTkvDXu_z2AhWt7HMBHTy6AW8Q1QJ6BAgMEAw\"><accordion-entry-search-icon><span class=\"ieB2Dd\"><img alt=\"\" class=\"OEaqif\" data-deferred=\"1\" id=\"dimg_11\" src=\"data:image/gif;base64,R0lGODlhAQABAIAAAP///////yH5BAEKAAEALAAAAAABAAEAAAICTAEAOw==\" style=\"max-width:20px;max-height:20px\"/></span></accordion-entry-search-icon><div class=\"kjGX2\"><span><div class=\"BNeawe s3v9rd AP7Wnd lRVwie\">Amazon stock</div></span></div></a>,\n",
       " <a class=\"Q71vJc\" href=\"/search?ie=UTF-8&amp;q=Amazon+stock+split&amp;sa=X&amp;ved=2ahUKEwjTkvDXu_z2AhWt7HMBHTy6AW8Q1QJ6BAgMEA4\"><accordion-entry-search-icon><span class=\"ieB2Dd\"><img alt=\"\" class=\"OEaqif\" data-deferred=\"1\" id=\"dimg_13\" src=\"data:image/gif;base64,R0lGODlhAQABAIAAAP///////yH5BAEKAAEALAAAAAABAAEAAAICTAEAOw==\" style=\"max-width:20px;max-height:20px\"/></span></accordion-entry-search-icon><div class=\"kjGX2\"><span><div class=\"BNeawe s3v9rd AP7Wnd lRVwie\">Amazon stock split</div></span></div></a>,\n",
       " <a class=\"Q71vJc\" href=\"/search?ie=UTF-8&amp;q=Microsoft+stock&amp;sa=X&amp;ved=2ahUKEwjTkvDXu_z2AhWt7HMBHTy6AW8Q1QJ6BAgMEBA\"><accordion-entry-search-icon><span class=\"ieB2Dd\"><img alt=\"\" class=\"OEaqif\" data-deferred=\"1\" id=\"dimg_15\" src=\"data:image/gif;base64,R0lGODlhAQABAIAAAP///////yH5BAEKAAEALAAAAAABAAEAAAICTAEAOw==\" style=\"max-width:20px;max-height:20px\"/></span></accordion-entry-search-icon><div class=\"kjGX2\"><span><div class=\"BNeawe s3v9rd AP7Wnd lRVwie\">Microsoft stock</div></span></div></a>,\n",
       " <a aria-label=\"Next page\" class=\"nBDE1b G5eFlf\" href=\"/search?q=amazon+on+yahoo+finance&amp;ie=UTF-8&amp;ei=qPhLYtOeKq3Zz7sPvPSG-AY&amp;start=10&amp;sa=N\">Next &gt;</a>,\n",
       " <a href=\"/url?q=https://support.google.com/websearch%3Fp%3Dws_settings_location%26hl%3Den-IN&amp;sa=U&amp;ved=0ahUKEwjTkvDXu_z2AhWt7HMBHTy6AW8Qty4IiQE&amp;usg=AOvVaw0IaMKaNw2JvYLnKMUmOlFT\">Learn more</a>,\n",
       " <a href=\"/url?q=https://accounts.google.com/ServiceLogin%3Fcontinue%3Dhttps://www.google.com/search%253Fq%253Damaazon%252Bon%252Byahoo%252Bfinance%26hl%3Den&amp;sa=U&amp;ved=0ahUKEwjTkvDXu_z2AhWt7HMBHTy6AW8Qxs8CCIoB&amp;usg=AOvVaw2wPZ-zBfGbAbEwh2w7kGa3\">Sign in</a>,\n",
       " <a class=\"xeDNfc\" href=\"https://www.google.com/preferences?hl=en-IN&amp;fg=1&amp;sa=X&amp;ved=0ahUKEwjTkvDXu_z2AhWt7HMBHTy6AW8Q5fUCCIsB\">Settings</a>,\n",
       " <a class=\"xeDNfc\" href=\"https://policies.google.com/privacy?hl=en-IN&amp;fg=1\">Privacy</a>,\n",
       " <a class=\"xeDNfc\" href=\"https://policies.google.com/terms?hl=en-IN&amp;fg=1\">Terms</a>]"
      ]
     },
     "execution_count": 16,
     "metadata": {},
     "output_type": "execute_result"
    }
   ],
   "source": [
    "BeautifulSoup(requests.get(\"https://google.com/search?q=amaazon+on+yahoo+finance\").content, 'html.parser').find_all('a')"
   ]
  },
  {
   "cell_type": "code",
   "execution_count": 17,
   "metadata": {},
   "outputs": [],
   "source": [
    "import re"
   ]
  },
  {
   "cell_type": "code",
   "execution_count": 49,
   "metadata": {},
   "outputs": [],
   "source": [
    "pattern = r'''<a href=\"/url\\?q=https://finance.yahoo.com/quote/([A-Z|\\-]+)'''  \n",
    "\n",
    "x = re.findall(pattern, str(BeautifulSoup(requests.get(\"https://google.com/search?q=wioproo+on+yahoo+finance\").content, 'html.parser').find_all('a')))\n",
    "\n",
    "asset_name = str(BeautifulSoup(requests.get(f\"https://finance.yahoo.com/quote/{x[0]}\").content, 'html.parser').find_all('h1'))"
   ]
  },
  {
   "cell_type": "code",
   "execution_count": 39,
   "metadata": {},
   "outputs": [
    {
     "data": {
      "text/plain": [
       "'[<h1 class=\"D(ib) Fz(18px)\">SHIBA INU USD (SHIB-USD)</h1>]'"
      ]
     },
     "execution_count": 39,
     "metadata": {},
     "output_type": "execute_result"
    }
   ],
   "source": [
    "asset_name"
   ]
  },
  {
   "cell_type": "code",
   "execution_count": 50,
   "metadata": {},
   "outputs": [
    {
     "data": {
      "text/plain": [
       "'[<h1 class=\"D(ib) Fz(18px)\">Wipro Limited (WIT)</h1>]'"
      ]
     },
     "execution_count": 50,
     "metadata": {},
     "output_type": "execute_result"
    }
   ],
   "source": [
    "asset_name"
   ]
  },
  {
   "cell_type": "code",
   "execution_count": 73,
   "metadata": {},
   "outputs": [
    {
     "name": "stdout",
     "output_type": "stream",
     "text": [
      "Wipro Limited (WIT)\n"
     ]
    },
    {
     "data": {
      "text/plain": [
       "['Wipro Limited ', 'WIT)']"
      ]
     },
     "execution_count": 73,
     "metadata": {},
     "output_type": "execute_result"
    }
   ],
   "source": [
    "pattern = r\"<h1 class=\\\"D(.*?)\\\">(.*?)<\\/h1>\"\n",
    "\n",
    "x = re.findall(pattern, asset_name)[0][1]\n",
    "print(x)\n",
    "\n",
    "pattern = r\"\\(\"\n",
    "\n",
    "x = re.split(\"\\(\", x)\n",
    "\n",
    "x\n"
   ]
  },
  {
   "cell_type": "code",
   "execution_count": 63,
   "metadata": {},
   "outputs": [
    {
     "ename": "TypeError",
     "evalue": "expected string or bytes-like object",
     "output_type": "error",
     "traceback": [
      "\u001b[1;31m---------------------------------------------------------------------------\u001b[0m",
      "\u001b[1;31mTypeError\u001b[0m                                 Traceback (most recent call last)",
      "\u001b[1;32m<ipython-input-63-bb1d589b70a1>\u001b[0m in \u001b[0;36m<module>\u001b[1;34m\u001b[0m\n\u001b[0;32m      1\u001b[0m \u001b[0mpattern\u001b[0m \u001b[1;33m=\u001b[0m \u001b[1;34mr\"\\S\"\u001b[0m\u001b[1;33m\u001b[0m\u001b[1;33m\u001b[0m\u001b[0m\n\u001b[0;32m      2\u001b[0m \u001b[1;33m\u001b[0m\u001b[0m\n\u001b[1;32m----> 3\u001b[1;33m \u001b[0mx\u001b[0m \u001b[1;33m=\u001b[0m \u001b[0mre\u001b[0m\u001b[1;33m.\u001b[0m\u001b[0mfindall\u001b[0m\u001b[1;33m(\u001b[0m\u001b[0mpattern\u001b[0m\u001b[1;33m,\u001b[0m \u001b[0mx\u001b[0m\u001b[1;33m)\u001b[0m\u001b[1;33m\u001b[0m\u001b[1;33m\u001b[0m\u001b[0m\n\u001b[0m\u001b[0;32m      4\u001b[0m \u001b[1;33m\u001b[0m\u001b[0m\n\u001b[0;32m      5\u001b[0m \u001b[0mx\u001b[0m\u001b[1;33m\u001b[0m\u001b[1;33m\u001b[0m\u001b[0m\n",
      "\u001b[1;32m~\\AppData\\Local\\Programs\\Python\\Python38\\lib\\re.py\u001b[0m in \u001b[0;36mfindall\u001b[1;34m(pattern, string, flags)\u001b[0m\n\u001b[0;32m    239\u001b[0m \u001b[1;33m\u001b[0m\u001b[0m\n\u001b[0;32m    240\u001b[0m     Empty matches are included in the result.\"\"\"\n\u001b[1;32m--> 241\u001b[1;33m     \u001b[1;32mreturn\u001b[0m \u001b[0m_compile\u001b[0m\u001b[1;33m(\u001b[0m\u001b[0mpattern\u001b[0m\u001b[1;33m,\u001b[0m \u001b[0mflags\u001b[0m\u001b[1;33m)\u001b[0m\u001b[1;33m.\u001b[0m\u001b[0mfindall\u001b[0m\u001b[1;33m(\u001b[0m\u001b[0mstring\u001b[0m\u001b[1;33m)\u001b[0m\u001b[1;33m\u001b[0m\u001b[1;33m\u001b[0m\u001b[0m\n\u001b[0m\u001b[0;32m    242\u001b[0m \u001b[1;33m\u001b[0m\u001b[0m\n\u001b[0;32m    243\u001b[0m \u001b[1;32mdef\u001b[0m \u001b[0mfinditer\u001b[0m\u001b[1;33m(\u001b[0m\u001b[0mpattern\u001b[0m\u001b[1;33m,\u001b[0m \u001b[0mstring\u001b[0m\u001b[1;33m,\u001b[0m \u001b[0mflags\u001b[0m\u001b[1;33m=\u001b[0m\u001b[1;36m0\u001b[0m\u001b[1;33m)\u001b[0m\u001b[1;33m:\u001b[0m\u001b[1;33m\u001b[0m\u001b[1;33m\u001b[0m\u001b[0m\n",
      "\u001b[1;31mTypeError\u001b[0m: expected string or bytes-like object"
     ]
    }
   ],
   "source": []
  }
 ],
 "metadata": {
  "interpreter": {
   "hash": "bbcae02c4273700af05fd878483d93fcaab7791578566c35fbbd6258eb8c5fe6"
  },
  "kernelspec": {
   "display_name": "Python 3.8.7 64-bit",
   "language": "python",
   "name": "python3"
  },
  "language_info": {
   "codemirror_mode": {
    "name": "ipython",
    "version": 3
   },
   "file_extension": ".py",
   "mimetype": "text/x-python",
   "name": "python",
   "nbconvert_exporter": "python",
   "pygments_lexer": "ipython3",
   "version": "3.8.7"
  },
  "orig_nbformat": 4
 },
 "nbformat": 4,
 "nbformat_minor": 2
}
