{
 "cells": [
  {
   "cell_type": "markdown",
   "metadata": {},
   "source": [
    " <h1> Error Calculation Techniques And uses </h1>\n",
    "\n",
    " https://towardsdatascience.com/regression-an-explanation-of-regression-metrics-and-what-can-go-wrong-a39a9793d914\n"
   ]
  },
  {
   "cell_type": "markdown",
   "metadata": {},
   "source": [
    "# R-Square :"
   ]
  },
  {
   "cell_type": "markdown",
   "metadata": {},
   "source": [
    "#### R-Squared, also known as the Coefficient of Determination, is a value between 0 and 1 that measures how well our regression line fits our data. R-Squared can be interpreted as the percent of variance in our dependent variable that can be explained by our model. The closer R-Squared is to 1 or 100% the better our model will be at predicting our dependent variable. This can be a little confusing so to truly understand R-Squared we must look into how it is calculated.\n",
    "\n",
    "### it is mainly used for regression models\n",
    "\n",
    "<img src=\"https://miro.medium.com/max/1400/1*_HbrAW-tMRBli6ASD5Bttw.png\" height=\"70%\" width=\"70%\" >\n",
    "\n",
    "#####  RES is sum of residuals i.e. actual - predicted\n",
    "### here yi is actual value and y^ is predicted value , y<sup>_</sup> is mean of y\n",
    "#### we can always observe in case of best fit line that RES is always lower than Total  i.e. SS<sub>RES</sub>  < SS<sub>ToT</sub>\n",
    "#### in case of line that is far from actual data point , we get -ve R-Squared as there will be SS<sub>RES</sub>  > SS<sub>ToT</sub>\n",
    "## Value of R-Squared is always between 0 and 1 , it can be negative but this is not for a good model\n",
    "### more it will closer to 1 , more it will be good model or less errored model"
   ]
  },
  {
   "cell_type": "markdown",
   "metadata": {},
   "source": [
    "#### problem with R-Squared is that if you keep adding more and more independent variables, R-Squared will go up. However, that does not mean these additional variables have a predictive quality.\n",
    "\n",
    "#### Adjusted R-Squared takes into account the number of independent variables you employ in your model and can help indicate if a variable is useless or not. The more variables you add to your model without predictive quality the lower your Adjusted R-Squared will be. You can see that the number of independent variables, k, is included in the Adjusted R-Squared formula below.\n",
    "\n",
    "##### The more variables you add to your model without predictive quality the lower your Adjusted R-Squared will be.\n",
    "\n",
    "<img src=\"4.jpg\" height=\"70%\" width=\"70%\" >\n",
    "\n",
    "### Where N is total number of samples and k is predictors or no. of features\n",
    "\n",
    "#### difference between R-Squared and Adjusted R-Squared should be as small as possible."
   ]
  },
  {
   "cell_type": "code",
   "execution_count": null,
   "metadata": {},
   "outputs": [],
   "source": [
    "from sklearn.metrics import r2_score\n",
    "\n",
    "# r2_score = r2_score(y_true, y_pred)"
   ]
  },
  {
   "cell_type": "markdown",
   "metadata": {},
   "source": [
    "# MSE :       \n",
    "\n",
    "#### if mse value in nearer to zzero then model is good "
   ]
  }
 ],
 "metadata": {
  "interpreter": {
   "hash": "bbcae02c4273700af05fd878483d93fcaab7791578566c35fbbd6258eb8c5fe6"
  },
  "kernelspec": {
   "display_name": "Python 3.8.7 64-bit",
   "language": "python",
   "name": "python3"
  },
  "language_info": {
   "codemirror_mode": {
    "name": "ipython",
    "version": 3
   },
   "file_extension": ".py",
   "mimetype": "text/x-python",
   "name": "python",
   "nbconvert_exporter": "python",
   "pygments_lexer": "ipython3",
   "version": "3.8.7"
  },
  "orig_nbformat": 4
 },
 "nbformat": 4,
 "nbformat_minor": 2
}
