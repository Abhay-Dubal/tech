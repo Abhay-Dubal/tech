{
 "cells": [
  {
   "cell_type": "code",
   "execution_count": 14,
   "metadata": {},
   "outputs": [],
   "source": [
    "import numpy as np\n",
    "# import streamlit as st\n",
    "# import re\n",
    "# import requests\n",
    "# import base64\n",
    "# from bs4 import BeautifulSoup\n",
    "import datetime\n",
    "\n",
    "import yfinance as yf\n",
    "import matplotlib.pyplot as plt\n",
    "import pandas as pd\n",
    "import seaborn as sns\n",
    "from datetime import datetime\n",
    "\n",
    "import math \n",
    "\n",
    "\n",
    "# from statsmodels.tsa.arima.model import ARIMA\n",
    "from statsmodels.tsa.arima_model import ARIMA\n",
    "\n",
    "from sklearn.metrics import mean_squared_error,mean_absolute_error"
   ]
  },
  {
   "cell_type": "code",
   "execution_count": 15,
   "metadata": {},
   "outputs": [],
   "source": [
    "def fetch_data (start_date , end_date, tickers): \n",
    "    data = yf.download(tickers=tickers, start= start_date , end=end_date , interval = '1d')   \n",
    "    return data\n",
    "\n",
    "def get_pch(df):\n",
    "    mean = df[op].mean()\n",
    "    base_price = df.iloc[0][0]\n",
    "    pch_list = []\n",
    "    # pch_list.append(0)\n",
    "    print(\"mean is \" , mean)\n",
    "    for i in range(len(df)):\n",
    "        a= (df.iloc[i][0] - base_price)  / mean\n",
    "        \n",
    "        pch_list.append(a*100)\n",
    "    # for i in range(1,len(df)):\n",
    "    #     a= df.iloc[i][0]  / base_price\n",
    "    #     if a > 1 :\n",
    "    #         a= a -1 \n",
    "    #     else:\n",
    "    #         a = -(1 - a)\n",
    "    #     pch_list.append(a*100)\n",
    "    \n",
    "    df = pd.DataFrame(pch_list)\n",
    "    \n",
    "    return df\n"
   ]
  },
  {
   "cell_type": "code",
   "execution_count": 16,
   "metadata": {},
   "outputs": [
    {
     "name": "stdout",
     "output_type": "stream",
     "text": [
      "[*********************100%***********************]  1 of 1 completed\n"
     ]
    },
    {
     "data": {
      "text/html": [
       "<div>\n",
       "<style scoped>\n",
       "    .dataframe tbody tr th:only-of-type {\n",
       "        vertical-align: middle;\n",
       "    }\n",
       "\n",
       "    .dataframe tbody tr th {\n",
       "        vertical-align: top;\n",
       "    }\n",
       "\n",
       "    .dataframe thead th {\n",
       "        text-align: right;\n",
       "    }\n",
       "</style>\n",
       "<table border=\"1\" class=\"dataframe\">\n",
       "  <thead>\n",
       "    <tr style=\"text-align: right;\">\n",
       "      <th></th>\n",
       "      <th>Open</th>\n",
       "      <th>High</th>\n",
       "      <th>Low</th>\n",
       "      <th>Close</th>\n",
       "      <th>Adj Close</th>\n",
       "      <th>Volume</th>\n",
       "    </tr>\n",
       "    <tr>\n",
       "      <th>Date</th>\n",
       "      <th></th>\n",
       "      <th></th>\n",
       "      <th></th>\n",
       "      <th></th>\n",
       "      <th></th>\n",
       "      <th></th>\n",
       "    </tr>\n",
       "  </thead>\n",
       "  <tbody>\n",
       "    <tr>\n",
       "      <th>2019-12-31</th>\n",
       "      <td>7294.438965</td>\n",
       "      <td>7335.290039</td>\n",
       "      <td>7169.777832</td>\n",
       "      <td>7193.599121</td>\n",
       "      <td>7193.599121</td>\n",
       "      <td>21167946112</td>\n",
       "    </tr>\n",
       "    <tr>\n",
       "      <th>2020-01-01</th>\n",
       "      <td>7194.892090</td>\n",
       "      <td>7254.330566</td>\n",
       "      <td>7174.944336</td>\n",
       "      <td>7200.174316</td>\n",
       "      <td>7200.174316</td>\n",
       "      <td>18565664997</td>\n",
       "    </tr>\n",
       "    <tr>\n",
       "      <th>2020-01-02</th>\n",
       "      <td>7202.551270</td>\n",
       "      <td>7212.155273</td>\n",
       "      <td>6935.270020</td>\n",
       "      <td>6985.470215</td>\n",
       "      <td>6985.470215</td>\n",
       "      <td>20802083465</td>\n",
       "    </tr>\n",
       "    <tr>\n",
       "      <th>2020-01-03</th>\n",
       "      <td>6984.428711</td>\n",
       "      <td>7413.715332</td>\n",
       "      <td>6914.996094</td>\n",
       "      <td>7344.884277</td>\n",
       "      <td>7344.884277</td>\n",
       "      <td>28111481032</td>\n",
       "    </tr>\n",
       "    <tr>\n",
       "      <th>2020-01-04</th>\n",
       "      <td>7345.375488</td>\n",
       "      <td>7427.385742</td>\n",
       "      <td>7309.514160</td>\n",
       "      <td>7410.656738</td>\n",
       "      <td>7410.656738</td>\n",
       "      <td>18444271275</td>\n",
       "    </tr>\n",
       "  </tbody>\n",
       "</table>\n",
       "</div>"
      ],
      "text/plain": [
       "                   Open         High          Low        Close    Adj Close  \\\n",
       "Date                                                                          \n",
       "2019-12-31  7294.438965  7335.290039  7169.777832  7193.599121  7193.599121   \n",
       "2020-01-01  7194.892090  7254.330566  7174.944336  7200.174316  7200.174316   \n",
       "2020-01-02  7202.551270  7212.155273  6935.270020  6985.470215  6985.470215   \n",
       "2020-01-03  6984.428711  7413.715332  6914.996094  7344.884277  7344.884277   \n",
       "2020-01-04  7345.375488  7427.385742  7309.514160  7410.656738  7410.656738   \n",
       "\n",
       "                 Volume  \n",
       "Date                     \n",
       "2019-12-31  21167946112  \n",
       "2020-01-01  18565664997  \n",
       "2020-01-02  20802083465  \n",
       "2020-01-03  28111481032  \n",
       "2020-01-04  18444271275  "
      ]
     },
     "execution_count": 16,
     "metadata": {},
     "output_type": "execute_result"
    }
   ],
   "source": [
    "import datetime\n",
    "df = fetch_data(datetime.date(2020,1,1), datetime.date(2022,4,1),tickers=\"BTC-USD\")\n",
    "\n",
    "\n",
    "op = 'Close'\n",
    "days= 10\n",
    "df.head()"
   ]
  },
  {
   "cell_type": "code",
   "execution_count": 17,
   "metadata": {},
   "outputs": [
    {
     "data": {
      "text/plain": [
       "(822, 6)"
      ]
     },
     "execution_count": 17,
     "metadata": {},
     "output_type": "execute_result"
    }
   ],
   "source": [
    "df.shape"
   ]
  },
  {
   "cell_type": "code",
   "execution_count": 30,
   "metadata": {},
   "outputs": [
    {
     "data": {
      "text/plain": [
       "739"
      ]
     },
     "execution_count": 30,
     "metadata": {},
     "output_type": "execute_result"
    }
   ],
   "source": [
    "int(len(df) - len(df)*0.1)"
   ]
  },
  {
   "cell_type": "code",
   "execution_count": 31,
   "metadata": {},
   "outputs": [],
   "source": [
    "#  train test \n",
    "\n",
    "train_sample = int(len(df) - len(df)*0.1)\n",
    "\n",
    "train_data = list(df[train_sample:][op])\n",
    "\n",
    "# test_data = list(df[train_sample:][op])\n",
    "# train_data = list(df[0:train_sample][op])\n",
    "\n",
    "# test_data = list(df[train_sample:][op])\n",
    "\n"
   ]
  },
  {
   "cell_type": "code",
   "execution_count": 33,
   "metadata": {},
   "outputs": [
    {
     "data": {
      "text/plain": [
       "<matplotlib.legend.Legend at 0x20a1ec1cd30>"
      ]
     },
     "execution_count": 33,
     "metadata": {},
     "output_type": "execute_result"
    },
    {
     "data": {
      "image/png": "[encoded data removed]",
      "text/plain": [
       "<Figure size 432x288 with 1 Axes>"
      ]
     },
     "metadata": {
      "needs_background": "light"
     },
     "output_type": "display_data"
    }
   ],
   "source": [
    "plt.plot(df.index[train_sample:],train_data , label = 'train_data')\n",
    "# plt.plot(df.index[train_sample:],test_data , label = 'test')\n",
    "plt.legend()"
   ]
  },
  {
   "cell_type": "code",
   "execution_count": 34,
   "metadata": {},
   "outputs": [],
   "source": [
    "pred = []\n",
    "\n",
    "# test_obervations = len(test_data)\n",
    "\n",
    "# test_obervations"
   ]
  },
  {
   "cell_type": "code",
   "execution_count": 35,
   "metadata": {},
   "outputs": [],
   "source": [
    "for i in range(10):\n",
    "    model = ARIMA(train_data, order=(4,1,0))\n",
    "    model_fir = model.fit()\n",
    "    output = model_fir.forecast()\n",
    "    \n",
    "    pred.append(output[0][0])\n",
    "    \n",
    "    \n",
    "    # error = abs(y_actual - output[0][0])\n",
    "    \n",
    "    # print(\"output is \", output[0][0])\n",
    "    \n",
    "    train_data.append(output[0][0])\n"
   ]
  },
  {
   "cell_type": "code",
   "execution_count": 36,
   "metadata": {},
   "outputs": [
    {
     "data": {
      "text/html": [
       "<table class=\"simpletable\">\n",
       "<caption>ARIMA Model Results</caption>\n",
       "<tr>\n",
       "  <th>Dep. Variable:</th>        <td>D.y</td>       <th>  No. Observations:  </th>    <td>91</td>   \n",
       "</tr>\n",
       "<tr>\n",
       "  <th>Model:</th>          <td>ARIMA(4, 1, 0)</td>  <th>  Log Likelihood     </th> <td>-784.723</td>\n",
       "</tr>\n",
       "<tr>\n",
       "  <th>Method:</th>             <td>css-mle</td>     <th>  S.D. of innovations</th> <td>1344.877</td>\n",
       "</tr>\n",
       "<tr>\n",
       "  <th>Date:</th>          <td>Thu, 14 Apr 2022</td> <th>  AIC                </th> <td>1581.445</td>\n",
       "</tr>\n",
       "<tr>\n",
       "  <th>Time:</th>              <td>09:52:53</td>     <th>  BIC                </th> <td>1596.511</td>\n",
       "</tr>\n",
       "<tr>\n",
       "  <th>Sample:</th>                <td>1</td>        <th>  HQIC               </th> <td>1587.523</td>\n",
       "</tr>\n",
       "<tr>\n",
       "  <th></th>                       <td> </td>        <th>                     </th>     <td> </td>   \n",
       "</tr>\n",
       "</table>\n",
       "<table class=\"simpletable\">\n",
       "<tr>\n",
       "      <td></td>         <th>coef</th>     <th>std err</th>      <th>z</th>      <th>P>|z|</th>  <th>[0.025</th>    <th>0.975]</th>  \n",
       "</tr>\n",
       "<tr>\n",
       "  <th>const</th>     <td>   46.7384</td> <td>  132.140</td> <td>    0.354</td> <td> 0.724</td> <td> -212.251</td> <td>  305.727</td>\n",
       "</tr>\n",
       "<tr>\n",
       "  <th>ar.L1.D.y</th> <td>    0.0820</td> <td>    0.104</td> <td>    0.789</td> <td> 0.430</td> <td>   -0.122</td> <td>    0.286</td>\n",
       "</tr>\n",
       "<tr>\n",
       "  <th>ar.L2.D.y</th> <td>   -0.1084</td> <td>    0.104</td> <td>   -1.045</td> <td> 0.296</td> <td>   -0.312</td> <td>    0.095</td>\n",
       "</tr>\n",
       "<tr>\n",
       "  <th>ar.L3.D.y</th> <td>    0.0451</td> <td>    0.103</td> <td>    0.437</td> <td> 0.662</td> <td>   -0.157</td> <td>    0.247</td>\n",
       "</tr>\n",
       "<tr>\n",
       "  <th>ar.L4.D.y</th> <td>   -0.0897</td> <td>    0.103</td> <td>   -0.874</td> <td> 0.382</td> <td>   -0.291</td> <td>    0.112</td>\n",
       "</tr>\n",
       "</table>\n",
       "<table class=\"simpletable\">\n",
       "<caption>Roots</caption>\n",
       "<tr>\n",
       "    <td></td>   <th>            Real</th>  <th>         Imaginary</th> <th>         Modulus</th>  <th>        Frequency</th>\n",
       "</tr>\n",
       "<tr>\n",
       "  <th>AR.1</th> <td>          -1.0513</td> <td>          -1.4403j</td> <td>           1.7831</td> <td>          -0.3503</td>\n",
       "</tr>\n",
       "<tr>\n",
       "  <th>AR.2</th> <td>          -1.0513</td> <td>          +1.4403j</td> <td>           1.7831</td> <td>           0.3503</td>\n",
       "</tr>\n",
       "<tr>\n",
       "  <th>AR.3</th> <td>           1.3024</td> <td>          -1.3447j</td> <td>           1.8721</td> <td>          -0.1275</td>\n",
       "</tr>\n",
       "<tr>\n",
       "  <th>AR.4</th> <td>           1.3024</td> <td>          +1.3447j</td> <td>           1.8721</td> <td>           0.1275</td>\n",
       "</tr>\n",
       "</table>"
      ],
      "text/plain": [
       "<class 'statsmodels.iolib.summary.Summary'>\n",
       "\"\"\"\n",
       "                             ARIMA Model Results                              \n",
       "==============================================================================\n",
       "Dep. Variable:                    D.y   No. Observations:                   91\n",
       "Model:                 ARIMA(4, 1, 0)   Log Likelihood                -784.723\n",
       "Method:                       css-mle   S.D. of innovations           1344.877\n",
       "Date:                Thu, 14 Apr 2022   AIC                           1581.445\n",
       "Time:                        09:52:53   BIC                           1596.511\n",
       "Sample:                             1   HQIC                          1587.523\n",
       "                                                                              \n",
       "==============================================================================\n",
       "                 coef    std err          z      P>|z|      [0.025      0.975]\n",
       "------------------------------------------------------------------------------\n",
       "const         46.7384    132.140      0.354      0.724    -212.251     305.727\n",
       "ar.L1.D.y      0.0820      0.104      0.789      0.430      -0.122       0.286\n",
       "ar.L2.D.y     -0.1084      0.104     -1.045      0.296      -0.312       0.095\n",
       "ar.L3.D.y      0.0451      0.103      0.437      0.662      -0.157       0.247\n",
       "ar.L4.D.y     -0.0897      0.103     -0.874      0.382      -0.291       0.112\n",
       "                                    Roots                                    \n",
       "=============================================================================\n",
       "                  Real          Imaginary           Modulus         Frequency\n",
       "-----------------------------------------------------------------------------\n",
       "AR.1           -1.0513           -1.4403j            1.7831           -0.3503\n",
       "AR.2           -1.0513           +1.4403j            1.7831            0.3503\n",
       "AR.3            1.3024           -1.3447j            1.8721           -0.1275\n",
       "AR.4            1.3024           +1.3447j            1.8721            0.1275\n",
       "-----------------------------------------------------------------------------\n",
       "\"\"\""
      ]
     },
     "execution_count": 36,
     "metadata": {},
     "output_type": "execute_result"
    }
   ],
   "source": [
    "model_fir.summary()"
   ]
  },
  {
   "cell_type": "code",
   "execution_count": 52,
   "metadata": {},
   "outputs": [],
   "source": [
    "from datetime import datetime, timedelta\n",
    "\n",
    "sdate = df.index[len(df)-1]  # start date\n",
    "edate = sdate +  timedelta(days=10)   # end date\n",
    "\n",
    "# datetime.date\n",
    "pred_date_range = pd.date_range(sdate,edate-timedelta(days=1),freq='d')\n",
    "\n",
    "# sdate , edate"
   ]
  },
  {
   "cell_type": "code",
   "execution_count": 53,
   "metadata": {},
   "outputs": [
    {
     "data": {
      "text/plain": [
       "<matplotlib.legend.Legend at 0x20a1edb7850>"
      ]
     },
     "execution_count": 53,
     "metadata": {},
     "output_type": "execute_result"
    },
    {
     "data": {
      "image/png": "[encoded data removed]",
      "text/plain": [
       "<Figure size 432x288 with 1 Axes>"
      ]
     },
     "metadata": {
      "needs_background": "light"
     },
     "output_type": "display_data"
    }
   ],
   "source": [
    "plt.plot(df.index[train_sample:],train_data[:len(df) - train_sample] , label = 'Actual_data')\n",
    "plt.plot(pred_date_range, pred , label = 'pred' , marker = 'o' , linestyle = 'dashed')\n",
    "plt.legend()"
   ]
  },
  {
   "cell_type": "code",
   "execution_count": 29,
   "metadata": {},
   "outputs": [
    {
     "data": {
      "text/html": [
       "<div>\n",
       "<style scoped>\n",
       "    .dataframe tbody tr th:only-of-type {\n",
       "        vertical-align: middle;\n",
       "    }\n",
       "\n",
       "    .dataframe tbody tr th {\n",
       "        vertical-align: top;\n",
       "    }\n",
       "\n",
       "    .dataframe thead th {\n",
       "        text-align: right;\n",
       "    }\n",
       "</style>\n",
       "<table border=\"1\" class=\"dataframe\">\n",
       "  <thead>\n",
       "    <tr style=\"text-align: right;\">\n",
       "      <th></th>\n",
       "      <th>Open</th>\n",
       "      <th>High</th>\n",
       "      <th>Low</th>\n",
       "      <th>Close</th>\n",
       "      <th>Adj Close</th>\n",
       "      <th>Volume</th>\n",
       "    </tr>\n",
       "    <tr>\n",
       "      <th>Date</th>\n",
       "      <th></th>\n",
       "      <th></th>\n",
       "      <th></th>\n",
       "      <th></th>\n",
       "      <th></th>\n",
       "      <th></th>\n",
       "    </tr>\n",
       "  </thead>\n",
       "  <tbody>\n",
       "    <tr>\n",
       "      <th>2022-03-27</th>\n",
       "      <td>44505.355469</td>\n",
       "      <td>46827.546875</td>\n",
       "      <td>44437.292969</td>\n",
       "      <td>46820.492188</td>\n",
       "      <td>46820.492188</td>\n",
       "      <td>28160889722</td>\n",
       "    </tr>\n",
       "    <tr>\n",
       "      <th>2022-03-28</th>\n",
       "      <td>46821.851562</td>\n",
       "      <td>48086.835938</td>\n",
       "      <td>46690.203125</td>\n",
       "      <td>47128.003906</td>\n",
       "      <td>47128.003906</td>\n",
       "      <td>36362175703</td>\n",
       "    </tr>\n",
       "    <tr>\n",
       "      <th>2022-03-29</th>\n",
       "      <td>47100.437500</td>\n",
       "      <td>48022.289062</td>\n",
       "      <td>47100.437500</td>\n",
       "      <td>47465.730469</td>\n",
       "      <td>47465.730469</td>\n",
       "      <td>31397059069</td>\n",
       "    </tr>\n",
       "    <tr>\n",
       "      <th>2022-03-30</th>\n",
       "      <td>47456.898438</td>\n",
       "      <td>47655.148438</td>\n",
       "      <td>46746.210938</td>\n",
       "      <td>47062.664062</td>\n",
       "      <td>47062.664062</td>\n",
       "      <td>29333883962</td>\n",
       "    </tr>\n",
       "    <tr>\n",
       "      <th>2022-03-31</th>\n",
       "      <td>47062.148438</td>\n",
       "      <td>47512.027344</td>\n",
       "      <td>45390.539062</td>\n",
       "      <td>45538.675781</td>\n",
       "      <td>45538.675781</td>\n",
       "      <td>33327427106</td>\n",
       "    </tr>\n",
       "  </tbody>\n",
       "</table>\n",
       "</div>"
      ],
      "text/plain": [
       "                    Open          High           Low         Close  \\\n",
       "Date                                                                 \n",
       "2022-03-27  44505.355469  46827.546875  44437.292969  46820.492188   \n",
       "2022-03-28  46821.851562  48086.835938  46690.203125  47128.003906   \n",
       "2022-03-29  47100.437500  48022.289062  47100.437500  47465.730469   \n",
       "2022-03-30  47456.898438  47655.148438  46746.210938  47062.664062   \n",
       "2022-03-31  47062.148438  47512.027344  45390.539062  45538.675781   \n",
       "\n",
       "               Adj Close       Volume  \n",
       "Date                                   \n",
       "2022-03-27  46820.492188  28160889722  \n",
       "2022-03-28  47128.003906  36362175703  \n",
       "2022-03-29  47465.730469  31397059069  \n",
       "2022-03-30  47062.664062  29333883962  \n",
       "2022-03-31  45538.675781  33327427106  "
      ]
     },
     "execution_count": 29,
     "metadata": {},
     "output_type": "execute_result"
    }
   ],
   "source": [
    "df.tail()"
   ]
  }
 ],
 "metadata": {
  "interpreter": {
   "hash": "bbcae02c4273700af05fd878483d93fcaab7791578566c35fbbd6258eb8c5fe6"
  },
  "kernelspec": {
   "display_name": "Python 3.8.7 64-bit",
   "language": "python",
   "name": "python3"
  },
  "language_info": {
   "codemirror_mode": {
    "name": "ipython",
    "version": 3
   },
   "file_extension": ".py",
   "mimetype": "text/x-python",
   "name": "python",
   "nbconvert_exporter": "python",
   "pygments_lexer": "ipython3",
   "version": "3.8.7"
  },
  "orig_nbformat": 4
 },
 "nbformat": 4,
 "nbformat_minor": 2
}
