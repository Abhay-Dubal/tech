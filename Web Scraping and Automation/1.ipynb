{
 "cells": [
  {
   "cell_type": "code",
   "execution_count": 1,
   "metadata": {},
   "outputs": [],
   "source": [
    "import re\n",
    "import smtplib   # sending email\n",
    "\n",
    "from email.mime.multipart import MIMEMultipart \n",
    "\n",
    "from email.mime.text import MIMEText\n",
    "\n",
    "import datetime\n",
    "\n",
    "import requests\n",
    "\n",
    "from bs4 import BeautifulSoup\n",
    "\n",
    "now = datetime.datetime.now()"
   ]
  },
  {
   "cell_type": "code",
   "execution_count": 2,
   "metadata": {},
   "outputs": [],
   "source": [
    "res = requests.get(\"https://news.ycombinator.com/\")   \n",
    "\n",
    "\n",
    "source = res.content\n",
    "\n",
    "soup = BeautifulSoup(source, 'html.parser')\n",
    "\n",
    "text =  soup.find_all('tr')"
   ]
  },
  {
   "cell_type": "code",
   "execution_count": 17,
   "metadata": {},
   "outputs": [
    {
     "name": "stdout",
     "output_type": "stream",
     "text": [
      "Git security vulnerability announced   By  github.blog\n",
      "Deekaykwon 2D Animations   By  deekaykwon.com\n",
      "Never hose out a Honda Element   By  fifthelementcamping.com\n",
      "BBEdit is 30 years old today   By  groups.google.com\n",
      "Eden   By  github.com/facebookexperimental\n",
      "The Svix Webhook Service (YC W21) Is Hiring a Rust Back End Engineer (Remote)   By  svix.com\n",
      "Ana is a Python, PHP, and C inspired dynamically typed scripting language   By  github.com/analang\n",
      "When to use generics   By  go.dev\n",
      "New(ish) command line tools   By  jvns.ca\n",
      "Broadband cables to be routed through water pipes in new trial   By  theiet.org\n",
      "RaidForums gets raided, alleged admin arrested   By  krebsonsecurity.com\n",
      "WireGuard multihop available in the Mullvad app   By  mullvad.net\n",
      "Playing with DALL-E 2   By  lesswrong.com\n",
      "Shine: A super fast fixed-point MP3 encoder   By  github.com/toots\n",
      "A few things to try with DALL·E   By  bramadams.dev\n",
      "Wikipedia RFC to stop accepting cryptocurrencies passes by majority vote   By  wikimedia.org\n",
      "The complete guide to protecting your APIs with OAuth2   By  stackoverflow.blog\n",
      "A tiny Docker image to serve static websites   By  lipanski.com\n",
      "Apple introduces new version of iMovie featuring Storyboards and Magic Movie   By  apple.com\n",
      "Harder Drive: Hard drives we didn't want or need [video]   By  youtube.com\n",
      "Command Line Programs for the Blind   By  eklhad.net\n",
      "Heroic Newsboy Funerals   By  jstor.org\n",
      "The world’s largest bee and the cautionary tale of its rediscovery   By  atlasobscura.com\n",
      "Are film critics losing sync with audiences?   By  stephenfollows.com\n",
      "WebP is such a goated format   By  sandyuraz.com\n",
      "Minimalist dependency injection in Python (2021)   By  oddbit.dev\n",
      "Rules of Spycraft (2009) [pdf]   By  grugq.github.io\n",
      "Actuarial Life Table   By  ssa.gov\n",
      "Zapier: A $5B Unbundling Opportunity   By  georgesequeira.com\n",
      "Google Drive: Shortcuts replacing files and folders stored in multiple locations   By  support.google.com\n",
      "Git security vulnerability announced   By  github.blog\n",
      "Deekaykwon 2D Animations   By  deekaykwon.com\n",
      "Never hose out a Honda Element   By  fifthelementcamping.com\n",
      "BBEdit is 30 years old today   By  groups.google.com\n",
      "Eden   By  github.com/facebookexperimental\n",
      "The Svix Webhook Service (YC W21) Is Hiring a Rust Back End Engineer (Remote)   By  svix.com\n",
      "Ana is a Python, PHP, and C inspired dynamically typed scripting language   By  github.com/analang\n",
      "When to use generics   By  go.dev\n",
      "New(ish) command line tools   By  jvns.ca\n",
      "Broadband cables to be routed through water pipes in new trial   By  theiet.org\n",
      "RaidForums gets raided, alleged admin arrested   By  krebsonsecurity.com\n",
      "WireGuard multihop available in the Mullvad app   By  mullvad.net\n",
      "Playing with DALL-E 2   By  lesswrong.com\n",
      "Shine: A super fast fixed-point MP3 encoder   By  github.com/toots\n",
      "A few things to try with DALL·E   By  bramadams.dev\n",
      "Wikipedia RFC to stop accepting cryptocurrencies passes by majority vote   By  wikimedia.org\n",
      "The complete guide to protecting your APIs with OAuth2   By  stackoverflow.blog\n",
      "A tiny Docker image to serve static websites   By  lipanski.com\n",
      "Apple introduces new version of iMovie featuring Storyboards and Magic Movie   By  apple.com\n",
      "Harder Drive: Hard drives we didn't want or need [video]   By  youtube.com\n",
      "Command Line Programs for the Blind   By  eklhad.net\n",
      "Heroic Newsboy Funerals   By  jstor.org\n",
      "The world’s largest bee and the cautionary tale of its rediscovery   By  atlasobscura.com\n",
      "Are film critics losing sync with audiences?   By  stephenfollows.com\n",
      "WebP is such a goated format   By  sandyuraz.com\n",
      "Minimalist dependency injection in Python (2021)   By  oddbit.dev\n",
      "Rules of Spycraft (2009) [pdf]   By  grugq.github.io\n",
      "Actuarial Life Table   By  ssa.gov\n",
      "Zapier: A $5B Unbundling Opportunity   By  georgesequeira.com\n",
      "Google Drive: Shortcuts replacing files and folders stored in multiple locations   By  support.google.com\n"
     ]
    }
   ],
   "source": [
    "for t in text:\n",
    "    for i in str(t.text).split('\\n'):\n",
    "        # pattern = r\"\\d\\.\\s[. | ^\\()]+\"\n",
    "        pattern = r\"\\d\\.\\s(.+)\\((.+)\\)\"\n",
    "        news = re.findall(pattern, i)\n",
    "        # print(i)\n",
    "        if len(news) > 0:\n",
    "            # pattern = r\"\\((.+)\\)\"\n",
    "            # link = re.findall(pattern, i)\n",
    "            print(news[0][0] ,  \" By \" , news[0][1])\n",
    "            # print(i)\n",
    "            # print(news)\n"
   ]
  },
  {
   "cell_type": "code",
   "execution_count": 8,
   "metadata": {},
   "outputs": [
    {
     "data": {
      "text/plain": [
       "'\\n3. Never hose out a Honda Element (fifthelementcamping.com)'"
      ]
     },
     "execution_count": 8,
     "metadata": {},
     "output_type": "execute_result"
    }
   ],
   "source": [
    "text[10].text"
   ]
  },
  {
   "cell_type": "code",
   "execution_count": null,
   "metadata": {},
   "outputs": [],
   "source": []
  },
  {
   "cell_type": "code",
   "execution_count": null,
   "metadata": {},
   "outputs": [],
   "source": []
  },
  {
   "cell_type": "code",
   "execution_count": null,
   "metadata": {},
   "outputs": [],
   "source": []
  },
  {
   "cell_type": "code",
   "execution_count": null,
   "metadata": {},
   "outputs": [],
   "source": []
  },
  {
   "cell_type": "code",
   "execution_count": null,
   "metadata": {},
   "outputs": [],
   "source": []
  },
  {
   "cell_type": "code",
   "execution_count": null,
   "metadata": {},
   "outputs": [],
   "source": []
  },
  {
   "cell_type": "code",
   "execution_count": null,
   "metadata": {},
   "outputs": [],
   "source": []
  },
  {
   "cell_type": "code",
   "execution_count": null,
   "metadata": {},
   "outputs": [],
   "source": []
  }
 ],
 "metadata": {
  "interpreter": {
   "hash": "bbcae02c4273700af05fd878483d93fcaab7791578566c35fbbd6258eb8c5fe6"
  },
  "kernelspec": {
   "display_name": "Python 3.8.7 64-bit",
   "language": "python",
   "name": "python3"
  },
  "language_info": {
   "codemirror_mode": {
    "name": "ipython",
    "version": 3
   },
   "file_extension": ".py",
   "mimetype": "text/x-python",
   "name": "python",
   "nbconvert_exporter": "python",
   "pygments_lexer": "ipython3",
   "version": "3.8.7"
  },
  "orig_nbformat": 4
 },
 "nbformat": 4,
 "nbformat_minor": 2
}
