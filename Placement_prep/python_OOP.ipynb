{
 "cells": [
  {
   "cell_type": "markdown",
   "metadata": {},
   "source": [
    "####  object-oriented Programming (OOPs) is a programming paradigm that uses objects and classes in programming. It aims to implement real-world entities like inheritance, polymorphisms, encapsulation, etc. in the programming. The main concept of OOPs is to bind the data and the functions that work on that together as a single unit so that no other part of the code can access this data."
   ]
  },
  {
   "cell_type": "markdown",
   "metadata": {},
   "source": [
    "## Main Concepts of Object-Oriented Programming (OOPs) \n",
    "### Class\n",
    "### Objects\n",
    "### Polymorphism\n",
    "### Encapsulation\n",
    "### Inheritance\n",
    "### Data Abstraction"
   ]
  },
  {
   "cell_type": "code",
   "execution_count": 44,
   "metadata": {},
   "outputs": [
    {
     "name": "stdout",
     "output_type": "stream",
     "text": [
      "class A with parameterized constructor as a =  4\n"
     ]
    }
   ],
   "source": [
    "#  class \n",
    "# class is a collection of objects. A class contains the blueprints or the prototype from which the objects are being created. It is a logical entity that contains some attributes and methods. \n",
    "\n",
    "class A:\n",
    "    a = 10      # by default, access is public , using object any public variable can be accessed , like object.a / class_name.a\n",
    "    _b = 20      #   protected variable , can be accessed within the class , its subclasses through inheritance and instance of the class(object)\n",
    "    __c = 30     # private variable , can be accessed only within the class\n",
    "\n",
    "#    in python , default and parameterized constructor can not be used in same class , \n",
    "#                        instead of assign default value in parameterized constructor to use it as default constructor as well as parameterized constructor\n",
    "#                if multiple constructor are defined in same class , then constructor mentioned first will be used \n",
    "\n",
    "    def __init__(self,a):   # parameterized constructor\n",
    "        self.a = a\n",
    "        print(\"class A with parameterized constructor as a = \",a)\n",
    "    # def __init__(self):   # defaut constructor  \n",
    "    #     print(\"A\")\n",
    "\n",
    "    def _fun1(self) -> None:     # protected method , can be accessed within the class  , its subclasses through inheritance and instance of the class(object)\n",
    "        print(\"in fun1 of class A\")\n",
    "\n",
    "    def __fun2(self):   # private method , can be accessed only within the class , can be used as helper function within class\n",
    "        print(\"in class A fun2 which is private\")\n",
    "\n",
    "    def funa(self):    # public method  \n",
    "        print(\"in funa of class A\")\n",
    "\n",
    "\n",
    "\n",
    "#  object is an instance of a class , also known as instance variable\n",
    "\n",
    "obj1 = A(4)  # invoke default constructor\n",
    "\n",
    "\n",
    "\n",
    "obj1.a = 10  # assign value to public variable , also done using A.a   , without object only can be with public and protected variable\n",
    "obj1._b = 21  # assign value to protected variable ,\n",
    "# print(obj1.__c)       # it will throw error , because private variable can not be accessed outside the class\n",
    "    "
   ]
  },
  {
   "cell_type": "code",
   "execution_count": 29,
   "metadata": {},
   "outputs": [],
   "source": [
    "#  Inheritance  :   capability of one class to derive or inherit the properties from another class\n",
    "\n",
    "#  Types of Inheritance :\n",
    "# 1. Single Inheritance: from a single-parent class.\n",
    "# 2. Multilevel Inheritance: inherit properties from an immediate parent class which in turn inherits properties from his parent class.\n",
    "# 3. Hierarchical Inheritance: more than one derived class to inherit properties from a parent class.\n",
    "# 4. Multiple Inheritance : inherit properties from more than one base class.\n"
   ]
  },
  {
   "cell_type": "code",
   "execution_count": 46,
   "metadata": {},
   "outputs": [
    {
     "name": "stdout",
     "output_type": "stream",
     "text": [
      "in class B constructor\n",
      "class A with parameterized constructor as a =  34\n",
      "in funa of class A\n",
      "in funb\n",
      "in funa of class A\n",
      "in funa of class B\n"
     ]
    }
   ],
   "source": [
    "\n",
    "#  single inheritance\n",
    "class B(A):\n",
    "    def __init__(self,a):\n",
    "        print(\"in class B constructor\")\n",
    "        super().__init__(a)  # super() is used to invoke parent class constructor\n",
    "        self.a = a\n",
    "\n",
    "    def funb(self):\n",
    "        super().funa()  # super() is used to invoke parent class method\n",
    "        print(\"in funb\")\n",
    "\n",
    "    def funa(self):   # override method of parent class\n",
    "        super().funa()  # super() is used to invoke parent class method\n",
    "        print(\"in funa of class B\")\n",
    "\n",
    "\n",
    "\n",
    "\n",
    "b = B(34)\n",
    "b.funb()\n",
    "b.funa()      # object of class B can access all public and protected method of class A\n",
    "\n",
    "\n"
   ]
  },
  {
   "cell_type": "code",
   "execution_count": 34,
   "metadata": {},
   "outputs": [
    {
     "name": "stdout",
     "output_type": "stream",
     "text": [
      "in class C constructor\n",
      "in class B constructor\n",
      "class A with parameterized constructor as a =  45\n",
      "in funa of class A\n",
      "in func\n"
     ]
    }
   ],
   "source": [
    "\n",
    "# multilevel inheritance\n",
    "class C(B):         #  class C inherits properties from class B that inherits properties from class A\n",
    "    def __init__(self,a):\n",
    "        print(\"in class C constructor\")\n",
    "        super().__init__(a)  # super() is used to invoke parent class constructor\n",
    "        self.a = a\n",
    "\n",
    "    def func(self):\n",
    "        super().funa()  # super() is used to invoke parent class method\n",
    "        print(\"in func\")\n",
    "\n",
    "c = C(45)\n",
    "c.func()"
   ]
  },
  {
   "cell_type": "code",
   "execution_count": 39,
   "metadata": {},
   "outputs": [
    {
     "name": "stdout",
     "output_type": "stream",
     "text": [
      "in class D constructor\n",
      "class A with parameterized constructor as a =  56\n",
      "in funa of class A\n",
      "in fund\n"
     ]
    }
   ],
   "source": [
    "#  Hierarchical Inheritance\n",
    "\n",
    "#         A\n",
    "#        / \\\n",
    "#       B   C\n",
    "\n",
    "class E(A):        # all the classes should not be inherited from one another\n",
    "    def __init__(self,a):\n",
    "        print(\"in class D constructor\")\n",
    "        super().__init__(a)  # super() is used to invoke parent class constructor\n",
    "        self.a = a\n",
    "\n",
    "    def fund(self):\n",
    "        super().funa()  # super() is used to invoke parent class method\n",
    "        print(\"in fund\")\n",
    "\n",
    "e = E(56)\n",
    "e.fund()"
   ]
  },
  {
   "cell_type": "code",
   "execution_count": 42,
   "metadata": {},
   "outputs": [
    {
     "name": "stdout",
     "output_type": "stream",
     "text": [
      "in class D constructor\n",
      "in class C constructor\n",
      "in class B constructor\n",
      "class A with parameterized constructor as a =  56\n",
      "in funa of class A\n",
      "in funs\n",
      "in fund\n"
     ]
    }
   ],
   "source": [
    "#  Multiple Inheritance\n",
    "\n",
    "class S:\n",
    "    def __init__(self,a):\n",
    "        print(\"in class S constructor\")\n",
    "        self.a = a\n",
    "\n",
    "    def funs(self):\n",
    "        print(\"in funs\")\n",
    "\n",
    "#     C    S\n",
    "#      \\  /\n",
    "#       \\/\n",
    "#        D\n",
    "\n",
    "class D(C,S):        # all the classes should not be inherited from one another\n",
    "    def __init__(self,a):\n",
    "        print(\"in class D constructor\")\n",
    "        super().__init__(a)  # super() is used to invoke parent class constructor\n",
    "        self.a = a\n",
    "\n",
    "    def fund(self):\n",
    "        super().funa()  # super() is used to invoke parent class method , also C.funa()  can be used\n",
    "        super().funs()  # super() is used to invoke parent class method  , also S.funs()  can be used\n",
    "        print(\"in fund\")\n",
    "\n",
    "d= D(56)\n",
    "d.fund()"
   ]
  },
  {
   "cell_type": "code",
   "execution_count": null,
   "metadata": {},
   "outputs": [],
   "source": [
    "#  Polymorphism : ability of an object to take on many forms. The process of using an object in a way that varies from its original form.\n",
    "#  For example, we need to determine if the given species of birds fly or not, using polymorphism we can do this using a single function\n",
    "#  in python , + operator is overloaded       , e.g. of polymorphism\n",
    "            #  1. it can be used to add two numbers \n",
    "            # 2.it can be used to concatenate two strings\n",
    "            # 3. it can be used to add two objects of same class\n",
    "\n",
    "\n",
    "class Bird:\n",
    "    def intro(self):\n",
    "        print(\"There are many types of birds.\")\n",
    "    def flight(self):\n",
    "        print(\"Most of the birds can fly but some cannot.\")\n",
    " \n",
    "class sparrow(Bird):\n",
    "    def flight(self):\n",
    "        print(\"Sparrows can fly.\")\n",
    " \n",
    "class ostrich(Bird):\n",
    "    def flight(self):\n",
    "        print(\"Ostriches cannot fly.\")\n"
   ]
  },
  {
   "cell_type": "code",
   "execution_count": null,
   "metadata": {},
   "outputs": [],
   "source": [
    "# Encapsulation : wrapping data and the methods that work on data within one unit\n",
    "\n",
    "# A class is an example of encapsulation as it encapsulates all the data that is member functions, variables\n"
   ]
  },
  {
   "cell_type": "code",
   "execution_count": null,
   "metadata": {},
   "outputs": [],
   "source": [
    "# Data Abstraction \n",
    "# hides the unnecessary code details from the user. \n",
    "# Also,  when we do not want to give out sensitive parts of our code implementation and this is where data abstraction came.\n",
    "\n",
    "#  access modifier : public , protected , private are used to encapsulate the data and methods from the user or specific user"
   ]
  }
 ],
 "metadata": {
  "kernelspec": {
   "display_name": "Python 3.8.7 64-bit",
   "language": "python",
   "name": "python3"
  },
  "language_info": {
   "codemirror_mode": {
    "name": "ipython",
    "version": 3
   },
   "file_extension": ".py",
   "mimetype": "text/x-python",
   "name": "python",
   "nbconvert_exporter": "python",
   "pygments_lexer": "ipython3",
   "version": "3.8.7"
  },
  "orig_nbformat": 4,
  "vscode": {
   "interpreter": {
    "hash": "b82bd812b6a37d04ba59de08f4dfa67a262de1c3e27303c0cb0a5b38b381c61f"
   }
  }
 },
 "nbformat": 4,
 "nbformat_minor": 2
}
