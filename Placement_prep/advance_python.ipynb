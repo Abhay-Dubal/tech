{
 "cells": [
  {
   "cell_type": "markdown",
   "metadata": {},
   "source": [
    "# ZIP\n"
   ]
  },
  {
   "cell_type": "code",
   "execution_count": 4,
   "metadata": {},
   "outputs": [
    {
     "name": "stdout",
     "output_type": "stream",
     "text": [
      "i = (1, 6, 11)\n",
      "i = (2, 7, 12)\n",
      "i = (3, 8, 13)\n",
      "i = (4, 9, 14)\n",
      "[(['a', 'b', 'c'],), (['d', 'e', 'f'],), (['g', 'h', 'i'],)]\n"
     ]
    },
    {
     "data": {
      "text/plain": [
       "[('a', 'd', 'g'), ('b', 'e', 'h'), ('c', 'f', 'i')]"
      ]
     },
     "execution_count": 4,
     "metadata": {},
     "output_type": "execute_result"
    }
   ],
   "source": [
    "# zip() function returns a zip object, \n",
    "#       which is an iterator of tuples where the first item in each passed iterator is paired together, and then the second item in\n",
    "#          each passed iterator are paired together etc.\n",
    "\n",
    "# If the passed iterators have different lengths, the iterator with the least items decides the length of the new iterator.\n",
    "\n",
    "a = [1,2,3,4,5]\n",
    "b = [6,7,8,9,10 , 78 , 4785]\n",
    "c = [11,12,13,14]\n",
    "\n",
    "z = zip(a,b,c)   # only 4 items are paired together cause minimum number of items in the iterators i.e. c has only 4 items\n",
    "                  #  z is zip object which is an iterator of tuples\n",
    "\n",
    "\n",
    "for i in z:     # using iterator returned by zip  , once value iterated it get removed from zip object\n",
    "    print(\"i =\",i)\n",
    "\n",
    "s = [[\"a\", \"b\", \"c\"], [\"d\", \"e\", \"f\"], [\"g\", \"h\", \"i\"]]\n",
    "\n",
    "z = zip(s)  \n",
    "print(list(z))\n",
    "\n",
    "list(zip(*s) )   # * is used to unpack the zip object and return a list of tuples"
   ]
  },
  {
   "cell_type": "markdown",
   "metadata": {},
   "source": [
    "# MAP"
   ]
  },
  {
   "cell_type": "code",
   "execution_count": 14,
   "metadata": {},
   "outputs": [
    {
     "name": "stdout",
     "output_type": "stream",
     "text": [
      "[2, 4, 6, 8, 10]\n"
     ]
    },
    {
     "data": {
      "text/plain": [
       "(['1', '2', '3', '4', '5'], [1, 2, 3, 4, 5])"
      ]
     },
     "execution_count": 14,
     "metadata": {},
     "output_type": "execute_result"
    }
   ],
   "source": [
    "# map() function returns a map object(which is an iterator) of the results after applying the given function to each item of a given iterable \n",
    "# map(fun, iter)\n",
    "\n",
    "# fun : It is a function to which map passes each element of given iterable.\n",
    "# iter : It is a iterable which is to be mapped.\n",
    "def double(n):\n",
    "    return n + n\n",
    "m = map(double , [1,2,3,4,5] )  # it passes iterable values to function as parameter\n",
    "\n",
    "print(list(m))\n",
    "\n",
    "\n",
    "list(map(str , [1,2,3,4,5])) , list(map(int , ['1' , '2' , '3' , '4' , '5']))"
   ]
  },
  {
   "cell_type": "markdown",
   "metadata": {},
   "source": [
    "# Filter"
   ]
  },
  {
   "cell_type": "code",
   "execution_count": 13,
   "metadata": {},
   "outputs": [
    {
     "name": "stdout",
     "output_type": "stream",
     "text": [
      "[1, 3, 5, 7, 9]\n"
     ]
    }
   ],
   "source": [
    "# filter(): Returns all elements of an iterable for which a function is true.\n",
    "\n",
    "f = filter(lambda n: n%2 != 0 , [1,2,3,4,5,6,7,8,9,10])       #  filter(fun , iter)\n",
    "\n",
    "print(list(f))\n"
   ]
  },
  {
   "cell_type": "markdown",
   "metadata": {},
   "source": [
    "## Collections\n",
    "\n",
    "#### contains specialized collection data types like deque, defaultdict, OrderedDict, Counter"
   ]
  },
  {
   "cell_type": "code",
   "execution_count": 1,
   "metadata": {},
   "outputs": [
    {
     "name": "stdout",
     "output_type": "stream",
     "text": [
      "Counter({5: 3, 8: 2, 9: 2, 6: 1, 2: 1, 36: 1})\n",
      "[8, 8, 9, 9, 5, 5, 5, 6, 2, 36]\n",
      "[(5, 3), (8, 2)]\n",
      "[(5, 3), (8, 2), (9, 2), (6, 1), (2, 1), (36, 1)]\n",
      "Counter({8: 2, 9: 2, 5: 2, 6: 1, 2: 1, 36: 1})\n"
     ]
    }
   ],
   "source": [
    "import collections\n",
    "\n",
    "\n",
    "#  counter makes dict from list of elemrents with key as unique element and value as count of element , used to count hashable elements(unique)\n",
    "#  it is in decscending order of count\n",
    "c= collections.Counter([8,9,8,9,5,6,2,36,5 , 5])   # key : set(list) , value : count of set(list)\n",
    "print(c)   # Counter({5: 3, 8: 2, 9: 2, 6: 1, 2: 1, 36: 1})\n",
    "print(list(c.elements()))   # return list of elements in counter  => [8, 8, 9, 9, 5, 5, 5, 6, 2, 36]\n",
    "print(c.most_common(2))   # return list of most common elements in counter for first 2 entries => [(5, 3), (8, 2)]   (element, count)\n",
    "print(c.most_common())   # return list of most common elements in counter for all entries => [(5, 3), (8, 2), (9, 2), (6, 1), (2, 1), (36, 1)]   (element, count)\n",
    "sub = {5:1}      # subtract 5 1times from counter\n",
    "c.subtract(sub)   # subtract sub from counter\n",
    "print(c)  # Counter({8: 2, 9: 2, 5: 2, 6: 1, 2: 1, 36: 1})"
   ]
  },
  {
   "cell_type": "code",
   "execution_count": 2,
   "metadata": {},
   "outputs": [
    {
     "name": "stdout",
     "output_type": "stream",
     "text": [
      "namedtuple : my_touple(x=1, y=2, z=3)\n"
     ]
    }
   ],
   "source": [
    "import collections  \n",
    "\n",
    "#  namedtuple : It is a tuple with named fields\n",
    "\n",
    "n =collections.namedtuple('my_touple', ('x', 'y' , 'z'))   #  2 arguments : name of tuple , list of fields\n",
    "a = n(1,2,3)          # assign values to fields , requires exact number of arguments mentioned in list of fields\n",
    "print(\"namedtuple :\", a)          # my_touple(x=1, y=2, z=3)"
   ]
  },
  {
   "cell_type": "code",
   "execution_count": 3,
   "metadata": {},
   "outputs": [
    {
     "data": {
      "text/plain": [
       "deque(['a', 'b', 'c'])"
      ]
     },
     "execution_count": 3,
     "metadata": {},
     "output_type": "execute_result"
    }
   ],
   "source": [
    "import collections  \n",
    "\n",
    "# deque : It is a double-ended queue , it can be used to add or remove elements from both sides of the queue , \n",
    "#         it is actually a list which is optimized for adding and removing elements from both sides\n",
    "\n",
    "d = collections.deque(['a', 'b', 'c'])\n",
    "\n",
    "d.append('d')      # add element to right side of deque\n",
    "d.appendleft('e')  # add element to left side of deque\n",
    "d.pop()           # remove element from right side of deque\n",
    "d.popleft()       # remove element from left side of deque\n"
   ]
  },
  {
   "cell_type": "code",
   "execution_count": 4,
   "metadata": {},
   "outputs": [
    {
     "name": "stdout",
     "output_type": "stream",
     "text": [
      "chainmap : ChainMap({'a': 1, 'b': 2}, {'a': 3, 'c': 4})\n"
     ]
    }
   ],
   "source": [
    "import collections  \n",
    "\n",
    "# chainmap : It is a class which can be used to chain multiple mappings together , it is single view for multiple mappings , \n",
    "#           it does not perform any operation on mappings having same keys\n",
    "\n",
    "dic1 = {'a': 1, 'b': 2}\n",
    "dic2 = {'a': 3, 'c': 4}\n",
    "\n",
    "c = collections.ChainMap(dic1 , dic2)\n",
    "\n",
    "print(\"chainmap :\", c)   # ChainMap({'a': 1, 'b': 2}, {'a': 3, 'c': 4})"
   ]
  },
  {
   "cell_type": "code",
   "execution_count": 5,
   "metadata": {},
   "outputs": [
    {
     "name": "stdout",
     "output_type": "stream",
     "text": [
      "ordereddict : OrderedDict([('a', 1), ('b', 2), ('c', 3)])\n",
      "ordereddict : OrderedDict([('a', 1), ('b', 4), ('c', 3)])\n"
     ]
    }
   ],
   "source": [
    "import collections  \n",
    "\n",
    "#  ordereddict : It is a class which can be used to create an ordered dictionary , it is a dictionary which keeps the order of keys as they are added\n",
    "\n",
    "o = collections.OrderedDict()\n",
    "\n",
    "o['a'] = 1\n",
    "o['b'] = 2\n",
    "o['c'] = 3\n",
    "print(\"ordereddict :\", o)   # OrderedDict([('a', 1), ('b', 2), ('c', 3)])\n",
    "o['b'] = 4\n",
    "print(\"ordereddict :\", o)   # OrderedDict([('a', 1), ('b', 4), ('c', 3)])   if it is not ordered then it will be in order i.e a,c,b"
   ]
  },
  {
   "cell_type": "code",
   "execution_count": null,
   "metadata": {},
   "outputs": [],
   "source": [
    "import collections  \n",
    "\n",
    "#  defaultdict : It is a class which can be used to create a dictionary with default values , \n",
    "#               it is a dictionary which has default values for keys which are not present in dictionary\n",
    "#  i.e. if key is not present in dictionary then it will return default value for that key\n",
    "\n",
    "d = collections.defaultdict(lambda: 'default')\n",
    "\n",
    "d[0] = 'a'\n",
    "d[1] = 'b'\n",
    "\n",
    "print(\"defaultdict :\", d)   # defaultdict(<function <lambda> at 0x000002A8F8F8F8F8>, {0: 'a', 1: 'b'})\n"
   ]
  },
  {
   "cell_type": "code",
   "execution_count": 6,
   "metadata": {},
   "outputs": [
    {
     "name": "stdout",
     "output_type": "stream",
     "text": [
      "userlist : [1, 2, 3]\n",
      "my_first_element : 1\n"
     ]
    }
   ],
   "source": [
    "import collections  \n",
    "\n",
    "#  userlist : It is a class which can be used to create a list which can be modified by user , it is a list which can be modified by user\n",
    "class my_custom_list(collections.UserList):\n",
    "\n",
    "    def my_first_element(self):      # method to return first element of list , custom method\n",
    "        print(\"my_first_element :\", self[0])\n",
    "\n",
    "\n",
    "\n",
    "l = my_custom_list([1,2,3])\n",
    "\n",
    "print(\"userlist :\", l)   # [1, 2, 3]\n",
    "\n",
    "l.my_first_element()   # my_first_element : 1   , from above class \n",
    "\n"
   ]
  },
  {
   "cell_type": "markdown",
   "metadata": {},
   "source": [
    "# IterTools\n",
    "\n",
    "#### Itertools is a collection of functions and classes that are used to work with iterators.q"
   ]
  },
  {
   "cell_type": "code",
   "execution_count": 21,
   "metadata": {},
   "outputs": [
    {
     "name": "stdout",
     "output_type": "stream",
     "text": [
      "i :  10\n",
      "i :  110\n",
      "i :  210\n",
      "count(310, 100)\n",
      "310\n"
     ]
    }
   ],
   "source": [
    "import itertools\n",
    "\n",
    "#  counter \n",
    "#  counter can be used count sequence of elements\n",
    "\n",
    "counter = itertools.count(10 , 100)  # start from 10 and increment by 100 , it has no end i.e. infinite number loop\n",
    "#  itertools.count(start, step)  => step can be negetive or in decimal also\n",
    "\n",
    "for i in counter:      # looping till infinity until if we stop it\n",
    "    print(\"i : \",i)\n",
    "    if i == 210:\n",
    "        break\n",
    "\n",
    "print(counter)      # prints counter object with next possible value\n",
    "\n",
    "print(next(counter))  # get next value of counter , update value of counter in sequance"
   ]
  },
  {
   "cell_type": "code",
   "execution_count": 22,
   "metadata": {},
   "outputs": [
    {
     "name": "stdout",
     "output_type": "stream",
     "text": [
      "[('a', 'd'), ('b', 'e'), ('c', 'f'), ('r', 'x'), ('h', 'x')]\n"
     ]
    }
   ],
   "source": [
    "import itertools\n",
    "\n",
    "#  zip_longest\n",
    "#  zip_longest can be used to zip two or more iterables(can be list) together\n",
    "#  zip_longest will zip values until longest iterable is exhausted unlike normal zip where it will stop when shortest iterable is exhausted\n",
    "#  fill value can be used to fill empty space in zip_longest if its iterable exhausted\n",
    "p = itertools.zip_longest(['a', 'b', 'c', 'r' , 'h'], ['d', 'e', 'f'], fillvalue='x')\n",
    "\n",
    "print(list(p))"
   ]
  },
  {
   "cell_type": "code",
   "execution_count": 23,
   "metadata": {},
   "outputs": [
    {
     "name": "stdout",
     "output_type": "stream",
     "text": [
      "a\n",
      "b\n",
      "c\n",
      "a\n"
     ]
    }
   ],
   "source": [
    "import itertools\n",
    "\n",
    "#  cycle \n",
    "\n",
    "#  cycle can be used to loop through an iterable infinitely\n",
    "\n",
    "p = itertools.cycle(['a', 'b', 'c'])\n",
    "\n",
    "# for i in p:   # looping infinitely through ['a', 'b', 'c']\n",
    "#     print(i)\n",
    "\n",
    "print(next(p))  # get next value of cycle , update value of cycle in sequance\n",
    "print(next(p))\n",
    "print(next(p))\n",
    "print(next(p))"
   ]
  },
  {
   "cell_type": "code",
   "execution_count": null,
   "metadata": {},
   "outputs": [],
   "source": [
    "import itertools\n",
    "\n",
    "\n",
    "# repeat\n",
    "# repeat can be used to repeat an iterable infinitely but different from cycle\n",
    "\n",
    "r = itertools.repeat('a', 3)   # repeat 'a' 3 times , after 3 times if tries to access next value it will raise error\n",
    "#  if 3 is not given it will repeat infinitely"
   ]
  },
  {
   "cell_type": "code",
   "execution_count": 25,
   "metadata": {},
   "outputs": [
    {
     "name": "stdout",
     "output_type": "stream",
     "text": [
      "('A', 'B', 'C')\n",
      "('A', 'C', 'B')\n",
      "('B', 'A', 'C')\n",
      "('B', 'C', 'A')\n",
      "('C', 'A', 'B')\n",
      "('C', 'B', 'A')\n",
      "Total possible permuations are  6\n",
      "plist : [[1, 5], [1, 6], [2, 5], [2, 6], [3, 5], [3, 6]]\n"
     ]
    }
   ],
   "source": [
    "import itertools\n",
    "\n",
    "\n",
    "# permutations => every possible combination of the elements , can be repeated with value misplaced for e.g. A,B,C  and B,A,C   is possible \n",
    "for p in itertools.permutations('ABC'):\n",
    "    print(p)\n",
    "print(\"Total possible permuations are \", len(list(itertools.permutations('ABC'))))\n",
    "#  another method\n",
    "list1,list2 = [1,2,3] , [5,6]\n",
    "p_list = [[x,y] for x in list1 for y in list2]\n",
    "print(\"plist :\",p_list)"
   ]
  },
  {
   "cell_type": "code",
   "execution_count": 28,
   "metadata": {},
   "outputs": [
    {
     "name": "stdout",
     "output_type": "stream",
     "text": [
      "('A', 'B', 'C')\n",
      "('A', 'B', 'D')\n",
      "('A', 'C', 'D')\n",
      "('B', 'C', 'D')\n",
      "Total possible combinations are  4\n"
     ]
    }
   ],
   "source": [
    "import itertools\n",
    "\n",
    "# combinations => every possible unique combination of the elements , can not be repeated with value misplaced for e.g. A,B,C  and B,A,C   is not possible\n",
    "for c in itertools.combinations('ABCD', 3):   # list of elements , number of elements in the combination ;   [3,7,8] is also can be used \n",
    "    print(c)\n",
    "print(\"Total possible combinations are \", len(list(itertools.combinations('ABCD', 3))))\n"
   ]
  },
  {
   "cell_type": "code",
   "execution_count": 29,
   "metadata": {},
   "outputs": [
    {
     "name": "stdout",
     "output_type": "stream",
     "text": [
      "('A', 'A', 'A')\n",
      "('A', 'A', 'B')\n",
      "('A', 'A', 'C')\n",
      "('A', 'A', 'D')\n",
      "('A', 'B', 'B')\n",
      "('A', 'B', 'C')\n",
      "('A', 'B', 'D')\n",
      "('A', 'C', 'C')\n",
      "('A', 'C', 'D')\n",
      "('A', 'D', 'D')\n",
      "('B', 'B', 'B')\n",
      "('B', 'B', 'C')\n",
      "('B', 'B', 'D')\n",
      "('B', 'C', 'C')\n",
      "('B', 'C', 'D')\n",
      "('B', 'D', 'D')\n",
      "('C', 'C', 'C')\n",
      "('C', 'C', 'D')\n",
      "('C', 'D', 'D')\n",
      "('D', 'D', 'D')\n",
      "Total possible combinations with_replacement are  20\n"
     ]
    }
   ],
   "source": [
    "import itertools\n",
    "\n",
    "#  both permutations and combinations does'nt allow even single duplicate element in combination formed\n",
    "\n",
    "#  combination with replacement\n",
    "# combination with replacement will allow duplicate element in combination formed\n",
    "for c in itertools.combinations_with_replacement('ABCD', 3):    \n",
    "    print(c)\n",
    "print(\"Total possible combinations with_replacement are \", len(list(itertools.combinations_with_replacement('ABCD', 3))))"
   ]
  },
  {
   "cell_type": "markdown",
   "metadata": {},
   "source": [
    "# comprehensions"
   ]
  },
  {
   "cell_type": "code",
   "execution_count": 15,
   "metadata": {},
   "outputs": [
    {
     "data": {
      "text/plain": [
       "([4, 9, 25, 49, 121], {2: 4, 3: 9, 5: 25, 7: 49, 11: 121})"
      ]
     },
     "execution_count": 15,
     "metadata": {},
     "output_type": "execute_result"
    }
   ],
   "source": [
    "# Python comprehensions  help to build altered and filtered lists, dictionaries, or sets from a given list, dictionary, or set.\n",
    "# Comprehension saves a lot of time and code that might be considerably more complex and time-consuming.\n",
    "\n",
    "my_list = [2, 3, 5, 7, 11]\n",
    "\n",
    "squared_list = [x**2 for x in my_list]    # list comprehension\n",
    "\n",
    "squared_dict = {x:x**2 for x in my_list}    # dict comprehension\n",
    "\n",
    "squared_list  , squared_dict"
   ]
  },
  {
   "cell_type": "markdown",
   "metadata": {},
   "source": [
    "# List Joining and Splitting"
   ]
  },
  {
   "cell_type": "code",
   "execution_count": 28,
   "metadata": {},
   "outputs": [
    {
     "name": "stdout",
     "output_type": "stream",
     "text": [
      "foobar\n",
      "['f', 'o', 'o']\n",
      "[['f', 'o', 'o'], ['b', 'a', 'r']]\n",
      "[1 2 3 4 5 6 7 8 9]\n"
     ]
    }
   ],
   "source": [
    "import numpy as np\n",
    "\n",
    "l= ['f','o','o','b','a','r'] \n",
    "print(\"\".join(l))\n",
    "\n",
    "#  seperate all elements of string to list of characters\n",
    "\n",
    "l = \"foo\"\n",
    "l = list(l)    # ['f', 'o', 'o']\n",
    "print(l)\n",
    "\n",
    "#  seperate all elements of list of string to list of characters\n",
    "\n",
    "l = [\"foo\", \"bar\"]  # [['f', 'o', 'o'], ['b', 'a', 'r']]\n",
    "l = map(list, l)\n",
    "print(list(l))\n",
    "\n",
    "#  convert ND list to 1D list where each list in ND list have same length\n",
    "\n",
    "l = [[1, 2, 3], [4, 5, 6], [7, 8, 9]]\n",
    "l = np.array(l).ravel()  # [1, 2, 3, 4, 5, 6, 7, 8, 9]\n",
    "print(l)"
   ]
  },
  {
   "cell_type": "markdown",
   "metadata": {},
   "source": [
    "# Range"
   ]
  },
  {
   "cell_type": "code",
   "execution_count": 37,
   "metadata": {},
   "outputs": [
    {
     "name": "stdout",
     "output_type": "stream",
     "text": [
      "range :  [0, 1, 2, 3, 4, 5, 6, 7, 8, 9]\n",
      "range :  [1, 3, 5, 7, 9]\n",
      "range :  [0, -2, -4, -6, -8]\n",
      "range :  [10, 8, 6, 4, 2]\n"
     ]
    }
   ],
   "source": [
    "#  range() -> range(start, stop, step) , range is used to create a list of numbers but it returns iterable range object not list\n",
    "#                     start to stop -1 with default step 1 , step and start are optional\n",
    "\n",
    "r = range(10)  # -> returns range(0, 10)\n",
    "print(\"range : \",list(r))   # range(0, 10)\n",
    "\n",
    "r = range(1 , 10 , 2)  # \n",
    "print(\"range : \",list(r))   \n",
    "\n",
    "r = range(0 , -10 , -2)  # \n",
    "print(\"range : \",list(r))  \n",
    "\n",
    "r = range(10 , 0 , -2)     # same as reversed(range(0 , 10 , 2))\n",
    "print(\"range : \",list(r))   "
   ]
  },
  {
   "cell_type": "code",
   "execution_count": null,
   "metadata": {},
   "outputs": [],
   "source": [
    "# difference between range & xrange\n",
    "\n",
    "#  xrange -> This function returns the generator object that can be used to display numbers only by looping. \n",
    "#               The only particular range is displayed on demand and hence called “lazy evaluation“\n",
    "#                xrange returns xrange() object. \n",
    "#    xrange is removed from python 3.x and replaced with range() , xrange was renamed to range in python 3.x and the 2.x range is what was removed\n",
    "#    python 3 range is bit faster than xrange of python 2.x"
   ]
  },
  {
   "cell_type": "markdown",
   "metadata": {},
   "source": [
    "# Pickling and unpickling"
   ]
  },
  {
   "cell_type": "code",
   "execution_count": 45,
   "metadata": {},
   "outputs": [
    {
     "name": "stdout",
     "output_type": "stream",
     "text": [
      "[1, 2, 3, 4, 5]\n"
     ]
    }
   ],
   "source": [
    "import pickle\n",
    "#  pickle module is used for implementing binary protocols for serializing and de-serializing a Python object structure\n",
    "\n",
    "# Constants provided by the pickle module\n",
    "# 1. pickle.HIGHEST_PROTOCOL \n",
    "# This is an integer value representing the highest protocol version available. \n",
    "# This is considered as the protocol value which is passed to the functions dump(), dumps(). \n",
    " \n",
    "# 2. pickle.DEFAULT_PROTOCOL \n",
    "# This is an integer value representing the default protocol used for pickling whose value may be less than the value of the highest protocol. \n",
    "\n",
    "obj = [1, 2, 3, 4, 5]\n",
    "\n",
    "\n",
    "# Pickling: It is a process where a Python object hierarchy is converted into a byte stream. \n",
    "#  for pickling , file must be opened in binary mode\n",
    "with open('datafile.txt', 'wb') as fh:   # filename can be of any extension like .txt , .pkl , .bin , .jpg etc.\n",
    "   pickle.dump(obj, fh)          # dump bytes of object to file one by one which can be read only after de-serializing\n",
    "\n",
    "with open(\"pickle2\", \"wb\") as f:     # alternate way of pickling using dumps\n",
    "    f.write(pickle.dumps(obj)) \n",
    "#  The difference between dump and dumps is that dump writes the pickled object to an open file, and dumps returns the pickled object as bytes\n",
    "\n",
    "\n",
    "# Unpickling: It is the inverse of Pickling process where a byte stream is converted into an object hierarchy. \n",
    "\n",
    "pickle_off = open (\"datafile.txt\", \"rb\")\n",
    "emp = pickle.load(pickle_off)\n",
    "print(emp)"
   ]
  },
  {
   "cell_type": "markdown",
   "metadata": {},
   "source": [
    "# File Operations"
   ]
  },
  {
   "cell_type": "code",
   "execution_count": 22,
   "metadata": {},
   "outputs": [],
   "source": [
    "#  File operations and different modes of file operations \n",
    "\n",
    "# with open(\"filename\", \"mode\") as file_var:\n",
    "\n",
    "#  OR\n",
    "\n",
    "# f= open(“hello.txt”, “wt”)"
   ]
  },
  {
   "cell_type": "markdown",
   "metadata": {},
   "source": [
    "# Argument Parsing"
   ]
  },
  {
   "cell_type": "code",
   "execution_count": 51,
   "metadata": {},
   "outputs": [
    {
     "name": "stdout",
     "output_type": "stream",
     "text": [
      "(1, 2, 3, 4, 5)\n",
      "first arg : 1\n",
      "(2, 3, 4, 5)\n",
      "first arg : 1\n",
      "()\n",
      "{'a': 1, 'b': 2, 'c': 3}\n"
     ]
    }
   ],
   "source": [
    "# *args and **kwargs\n",
    "\n",
    "#.*args: It is used to pass multiple arguments in a function. (Non-Keyword Arguments)\n",
    "\n",
    "# The syntax is to use the symbol * to take in a variable number of arguments; by convention, it is often used with the word args.\n",
    "# What *args allows you to do is take in more arguments than the number of formal arguments that you previously defined. With *args, \n",
    "#       any number of extra arguments can be tacked on to your current formal parameters (including zero extra arguments).\n",
    "# For example, we want to make a multiply function that takes any number of arguments and is able to multiply them all together. \n",
    "#   It can be done using *args.\n",
    "\n",
    "def fun(*args):\n",
    "    print(args)\n",
    "\n",
    "def fun1(a, *args):\n",
    "    print(\"first arg :\",a)\n",
    "    print(args)\n",
    "\n",
    "fun(1,2,3,4,5)\n",
    "fun1(1,2,3,4,5)\n",
    "fun1(1)\n",
    "\n",
    "\n",
    "# **kwargs: It is used to pass multiple keyworded arguments in a function in python.  (Keyword Arguments)\n",
    "#  special syntax **kwargs in function definitions in python is used to pass a keyworded, variable-length argument list. \n",
    "#       We use the name kwargs with the double star. The reason is that the double star allows us to pass through keyword arguments\n",
    "\n",
    "def fun2(**kwargs):\n",
    "    print(kwargs)\n",
    "    # for key, value in kwargs.items():\n",
    "    #     print(key, value)\n",
    "\n",
    "fun2(a = 1 , b = 2 , c = 3)"
   ]
  },
  {
   "cell_type": "markdown",
   "metadata": {},
   "source": [
    "# Multiprocessing"
   ]
  },
  {
   "cell_type": "code",
   "execution_count": null,
   "metadata": {},
   "outputs": [],
   "source": [
    "import os\n",
    "import time\n",
    "# multiprocessing\n",
    "from multiprocessing import Process, Queue"
   ]
  },
  {
   "cell_type": "markdown",
   "metadata": {},
   "source": [
    "# Threading"
   ]
  },
  {
   "cell_type": "code",
   "execution_count": 24,
   "metadata": {},
   "outputs": [],
   "source": [
    "# Multithreading "
   ]
  },
  {
   "cell_type": "code",
   "execution_count": 25,
   "metadata": {},
   "outputs": [],
   "source": [
    "\n",
    "\n",
    "# ternary operator is the operator that is used to show conditional statements in Python. This consists of the boolean true or false values with a statement that has to be checked."
   ]
  },
  {
   "cell_type": "code",
   "execution_count": null,
   "metadata": {},
   "outputs": [],
   "source": [
    "# Differentiate between NumPy and SciPy"
   ]
  }
 ],
 "metadata": {
  "kernelspec": {
   "display_name": "Python 3.8.7 64-bit",
   "language": "python",
   "name": "python3"
  },
  "language_info": {
   "codemirror_mode": {
    "name": "ipython",
    "version": 3
   },
   "file_extension": ".py",
   "mimetype": "text/x-python",
   "name": "python",
   "nbconvert_exporter": "python",
   "pygments_lexer": "ipython3",
   "version": "3.8.7"
  },
  "orig_nbformat": 4,
  "vscode": {
   "interpreter": {
    "hash": "b82bd812b6a37d04ba59de08f4dfa67a262de1c3e27303c0cb0a5b38b381c61f"
   }
  }
 },
 "nbformat": 4,
 "nbformat_minor": 2
}
