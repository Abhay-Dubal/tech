{
 "cells": [
  {
   "cell_type": "code",
   "execution_count": 2,
   "metadata": {},
   "outputs": [
    {
     "name": "stdout",
     "output_type": "stream",
     "text": [
      "[3, 3, 4, 6, 54, 56, 68, 68, 68, 656, 7768]\n"
     ]
    }
   ],
   "source": [
    "\n",
    "l = [3,3,68,6,4,54,7768,68,68,656,56]\n",
    "\n",
    "\n",
    "def sort(l):  # insertion sort -> best case O(n) worst case O(n^2) average case O(n^2) space O(1)\n",
    "    for i in range(1, len(l)):\n",
    "        key = l[i]\n",
    "        j = i - 1\n",
    "        while j >= 0 and key < l[j]:\n",
    "            l[j + 1] = l[j]\n",
    "            j -= 1\n",
    "        l[j + 1] = key\n",
    "\n",
    "    return l\n",
    "\n",
    "print(sort(l))\n",
    "    \n"
   ]
  },
  {
   "cell_type": "code",
   "execution_count": 4,
   "metadata": {},
   "outputs": [
    {
     "name": "stdout",
     "output_type": "stream",
     "text": [
      "[3, 3, 4, 6, 54, 56, 68, 68, 68, 656, 7768]\n"
     ]
    }
   ],
   "source": [
    "\n",
    "def quick_sort(l):  # quick sort -> best case O(n log n) worst case O(n^2) average case O(n log n) space O(log n)\n",
    "    if len(l) <= 1:\n",
    "        return l\n",
    "    else:\n",
    "        pivot = l[0]\n",
    "        less = [i for i in l[1:] if i <= pivot]\n",
    "        greater = [i for i in l[1:] if i > pivot]\n",
    "        return quick_sort(less) + [pivot] + quick_sort(greater)\n",
    "\n",
    "print(quick_sort(l))\n"
   ]
  }
 ],
 "metadata": {
  "kernelspec": {
   "display_name": "Python 3.8.7 64-bit",
   "language": "python",
   "name": "python3"
  },
  "language_info": {
   "codemirror_mode": {
    "name": "ipython",
    "version": 3
   },
   "file_extension": ".py",
   "mimetype": "text/x-python",
   "name": "python",
   "nbconvert_exporter": "python",
   "pygments_lexer": "ipython3",
   "version": "3.8.7"
  },
  "orig_nbformat": 4,
  "vscode": {
   "interpreter": {
    "hash": "b82bd812b6a37d04ba59de08f4dfa67a262de1c3e27303c0cb0a5b38b381c61f"
   }
  }
 },
 "nbformat": 4,
 "nbformat_minor": 2
}
